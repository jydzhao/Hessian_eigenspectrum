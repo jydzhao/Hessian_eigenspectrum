{
 "cells": [
  {
   "cell_type": "code",
   "execution_count": 1,
   "id": "6574c9a9",
   "metadata": {},
   "outputs": [],
   "source": [
    "import numpy as np\n",
    "import matplotlib.pyplot as plt\n",
    "import torch\n",
    "from torch import nn\n",
    "import time\n",
    "from IPython.display import display, Latex\n",
    "\n",
    "from torch.distributions.multivariate_normal import MultivariateNormal\n",
    "from datetime import datetime"
   ]
  },
  {
   "cell_type": "code",
   "execution_count": 2,
   "id": "5f6b56ca",
   "metadata": {},
   "outputs": [],
   "source": [
    "torch.set_default_dtype(torch.float64)"
   ]
  },
  {
   "cell_type": "code",
   "execution_count": 3,
   "id": "84ec6db2",
   "metadata": {},
   "outputs": [],
   "source": [
    "import numpy as np\n",
    "import matplotlib.pyplot as plt\n",
    "import torch\n",
    "from torch import nn\n",
    "import time\n",
    "from IPython.display import display, Latex\n",
    "\n",
    "from torch.distributions.multivariate_normal import MultivariateNormal\n",
    "from datetime import datetime\n",
    "\n",
    "torch.set_default_dtype(torch.float64)# Create model of linear NN with L hidden layers\n",
    "# input dim = d, hidden dim = m, output dim = k\n",
    "class Linear_NN_varying_hidden_units(nn.Module):\n",
    "    def __init__(self,d,m,k,L):\n",
    "        \"\"\"\n",
    "            d: input dimension\n",
    "            m: array of hidden layer dimensions of length L+1\n",
    "            k: output dimension\n",
    "            L: number of hidden layers\n",
    "        \"\"\"\n",
    "        super().__init__()\n",
    "        \n",
    "        self.L = L\n",
    "        self.lin_out = nn.Linear(m[-1], k, bias=False)\n",
    "        self.lin_in = nn.Linear(d, m[0], bias=False)\n",
    "        \n",
    "        self.lin_hidden = nn.ModuleList()\n",
    "        for i in range(self.L):\n",
    "            self.lin_hidden.append(nn.Linear(m[i], m[i+1], bias=False))\n",
    "#         self.lin_hidden = nn.ModuleList([nn.Linear(m, m, bias=False) for i in range(self.L)])\n",
    "        \n",
    "        \n",
    "    def forward(self, xb):\n",
    "        xb = self.lin_in(xb)\n",
    "        \n",
    "        for i in range(self.L):\n",
    "            xb = self.lin_hidden[i](xb)\n",
    "            \n",
    "        xb = self.lin_out(xb)\n",
    "        \n",
    "        return xb\n",
    "    \n",
    "    def init_weights(self, init_type):\n",
    "        if init_type == 'kaiming_normal':\n",
    "            torch.nn.init.kaiming_normal_(self.lin_in.weight, nonlinearity='linear')\n",
    "            torch.nn.init.kaiming_normal_(self.lin_out.weight, nonlinearity='linear')\n",
    "            for i in range(self.L):\n",
    "                torch.nn.init.kaiming_normal_(self.lin_hidden[i].weight, nonlinearity='linear')\n",
    "        elif init_type == 'kaiming_uniform':\n",
    "            torch.nn.init.kaiming_uniform_(self.lin_in.weight, nonlinearity='linear')\n",
    "            torch.nn.init.kaiming_uniform_(self.lin_out.weight, nonlinearity='linear')\n",
    "            for i in range(self.L):\n",
    "                torch.nn.init.kaiming_uniform_(self.lin_hidden[i].weight, nonlinearity='linear')\n",
    "        elif init_type == 'xavier_normal':\n",
    "            torch.nn.init.xavier_normal_(self.lin_in.weight)\n",
    "            torch.nn.init.xavier_normal_(self.lin_out.weight)\n",
    "            for i in range(self.L):\n",
    "                torch.nn.init.xavier_normal_(self.lin_hidden[i].weight)\n",
    "        elif init_type == 'xavier_uniform':\n",
    "            torch.nn.init.xavier_uniform_(self.lin_in.weight, nonlinearity='linear')\n",
    "            torch.nn.init.xavier_uniform_(self.lin_out.weight, nonlinearity='linear')\n",
    "            for i in range(self.L):\n",
    "                torch.nn.init.xavier_uniform_(self.lin_hidden[i].weight, nonlinearity='linear')\n",
    "        else:\n",
    "            print('Unknown initialization. Using Kaiming normal initialization')\n",
    "            torch.nn.init.kaiming_normal_(self.lin1.weight, nonlinearity='linear')\n",
    "            torch.nn.init.kaiming_normal_(self.lin2.weight, nonlinearity='linear')\n",
    "            for i in range(self.L):\n",
    "                torch.nn.init.kaiming_normal_(self.lin_hidden[i].weight, nonlinearity='linear')"
   ]
  },
  {
   "cell_type": "code",
   "execution_count": 4,
   "id": "99c45111",
   "metadata": {},
   "outputs": [],
   "source": [
    "import numpy as np\n",
    "import matplotlib.pyplot as plt\n",
    "import torch\n",
    "from torch import nn\n",
    "import time\n",
    "from IPython.display import display, Latex\n",
    "\n",
    "from torch.distributions.multivariate_normal import MultivariateNormal\n",
    "from datetime import datetime\n",
    "\n",
    "torch.set_default_dtype(torch.float64)# Create model of linear NN with L hidden layers\n",
    "# input dim = d, hidden dim = m, output dim = k\n",
    "class ReLU_NN_varying_hidden_units(nn.Module):\n",
    "    def __init__(self,d,m,k,L):\n",
    "        \"\"\"\n",
    "            d: input dimension\n",
    "            m: array of hidden layer dimensions of length L+1\n",
    "            k: output dimension\n",
    "            L: number of hidden layers\n",
    "        \"\"\"\n",
    "        super().__init__()\n",
    "        \n",
    "        self.L = L\n",
    "        self.relu = nn.ReLU()\n",
    "        self.lin_out = nn.Linear(m[-1], k, bias=False)\n",
    "        self.lin_in = nn.Linear(d, m[0], bias=False)\n",
    "        \n",
    "        self.lin_hidden = nn.ModuleList()\n",
    "        for i in range(self.L):\n",
    "            self.lin_hidden.append(nn.Linear(m[i], m[i+1], bias=False))\n",
    "\n",
    "        self.sequential = nn.Sequential(self.lin_in)\n",
    "        \n",
    "        for i in range(self.L):\n",
    "            self.sequential.append(self.relu)\n",
    "            self.sequential.append(self.lin_hidden[i])\n",
    "        \n",
    "        self.sequential.append(self.relu)\n",
    "        self.sequential.append(self.lin_out)                \n",
    "        \n",
    "        \n",
    "    def forward(self, xb):\n",
    "        xb = self.sequential(xb)       \n",
    "        return xb\n",
    "    \n",
    "    def init_weights(self, init_type):\n",
    "        if init_type == 'kaiming_normal':\n",
    "            torch.nn.init.kaiming_normal_(self.lin_in.weight, nonlinearity='linear')\n",
    "            torch.nn.init.kaiming_normal_(self.lin_out.weight, nonlinearity='linear')\n",
    "            for i in range(self.L):\n",
    "                torch.nn.init.kaiming_normal_(self.lin_hidden[i].weight, nonlinearity='linear')\n",
    "        elif init_type == 'kaiming_uniform':\n",
    "            torch.nn.init.kaiming_uniform_(self.lin_in.weight, nonlinearity='linear')\n",
    "            torch.nn.init.kaiming_uniform_(self.lin_out.weight, nonlinearity='linear')\n",
    "            for i in range(self.L):\n",
    "                torch.nn.init.kaiming_uniform_(self.lin_hidden[i].weight, nonlinearity='linear')\n",
    "        elif init_type == 'xavier_normal':\n",
    "            torch.nn.init.xavier_normal_(self.lin_in.weight)\n",
    "            torch.nn.init.xavier_normal_(self.lin_out.weight)\n",
    "            for i in range(self.L):\n",
    "                torch.nn.init.xavier_normal_(self.lin_hidden[i].weight)\n",
    "        elif init_type == 'xavier_uniform':\n",
    "            torch.nn.init.xavier_uniform_(self.lin_in.weight, nonlinearity='linear')\n",
    "            torch.nn.init.xavier_uniform_(self.lin_out.weight, nonlinearity='linear')\n",
    "            for i in range(self.L):\n",
    "                torch.nn.init.xavier_uniform_(self.lin_hidden[i].weight, nonlinearity='linear')\n",
    "        else:\n",
    "            print('Unknown initialization. Using Kaiming normal initialization')\n",
    "            torch.nn.init.kaiming_normal_(self.lin1.weight, nonlinearity='linear')\n",
    "            torch.nn.init.kaiming_normal_(self.lin2.weight, nonlinearity='linear')\n",
    "            for i in range(self.L):\n",
    "                torch.nn.init.kaiming_normal_(self.lin_hidden[i].weight, nonlinearity='linear')"
   ]
  },
  {
   "cell_type": "code",
   "execution_count": 5,
   "id": "0775b0b2",
   "metadata": {},
   "outputs": [],
   "source": [
    "L = [0]\n",
    "d = 10\n",
    "k = 10\n",
    "m = [12]\n",
    "\n",
    "Linear_NN = Linear_NN_varying_hidden_units(d,m,k,L[0])\n",
    "ReLU_NN = ReLU_NN_varying_hidden_units(d,m,k,L[0])\n",
    "\n",
    "num_param = sum(p.numel() for p in ReLU_NN.parameters())"
   ]
  },
  {
   "cell_type": "code",
   "execution_count": 6,
   "id": "4b1685da",
   "metadata": {},
   "outputs": [
    {
     "data": {
      "text/plain": [
       "240"
      ]
     },
     "execution_count": 6,
     "metadata": {},
     "output_type": "execute_result"
    }
   ],
   "source": [
    "num_param"
   ]
  },
  {
   "cell_type": "code",
   "execution_count": null,
   "id": "876ffa2d",
   "metadata": {},
   "outputs": [],
   "source": []
  },
  {
   "cell_type": "code",
   "execution_count": 7,
   "id": "6aa20ea6",
   "metadata": {
    "scrolled": true
   },
   "outputs": [
    {
     "name": "stdout",
     "output_type": "stream",
     "text": [
      "Network configurations: d = 10, k = 10, m = 12, L = 0 \n",
      "Calculations for ReLU networks\n",
      "Network configurations: d = 10, k = 10, m = 12, L = 0 \n"
     ]
    }
   ],
   "source": [
    "cov_x = torch.eye(d)\n",
    "\n",
    "# define multi-variate normal generator with unit matrix as variance\n",
    "mvrn_d = MultivariateNormal(torch.zeros(d),cov_x)\n",
    "mvrn_k = MultivariateNormal(torch.zeros(k),torch.eye(k))\n",
    "\n",
    "torch.manual_seed(3141)\n",
    "\n",
    "# sample n (input,output) tuples\n",
    "n = 10000\n",
    "x_data = (mvrn_d.rsample((n,)))**2\n",
    "y_data = torch.clone(x_data)\n",
    "# y = mvrn_k.rsample((n,))\n",
    "\n",
    "# calculate the empirical input covariance matrix and its condition number\n",
    "cov_xx = x_data.T @ x_data / n\n",
    "\n",
    "H_cond_lin_init = []\n",
    "H_o_tilde_cond_lin_init = []\n",
    "H_spec_lin_init = []\n",
    "\n",
    "H_cond_relu_init = []\n",
    "H_spec_relu_init = []\n",
    "\n",
    "\n",
    "torch.manual_seed(314159)\n",
    "\n",
    "print('Network configurations: d = %d, k = %d, m = %d, L = %d ' %(d, k, m[0], L[0]))\n",
    "\n",
    "\n",
    "# initialize the weight matrices according to the defined initialization\n",
    "Linear_NN.init_weights('kaiming_normal')\n",
    "\n",
    "V_kaiming = Linear_NN.lin_in.weight.detach()\n",
    "W_kaiming = Linear_NN.lin_out.weight.detach()\n",
    "\n",
    "# calculate the outer Hessian product according to the expression derived by Sidak\n",
    "H_o_tilde_lin_init = torch.kron( W_kaiming @ W_kaiming.T, cov_xx ) + \\\n",
    "                torch.kron( torch.eye(k), V_kaiming.T @ V_kaiming @ cov_xx )\n",
    "H_o_tilde_cond_lin_init.append(torch.linalg.cond(H_o_tilde_lin_init))\n",
    "\n",
    "# calculate the prediction at initialization with kaiming or xavier initialization(no training)\n",
    "y_hat_lin = Linear_NN(x_data)\n",
    "\n",
    "# calculate the MSE given the prediction and the loss\n",
    "loss_lin = ((y_hat_lin - y_data)**2).mean()\n",
    "\n",
    "# Allocate Hessian size\n",
    "H_lin_init = torch.zeros((num_param, num_param))\n",
    "\n",
    "# Calculate Jacobian w.r.t. model parameters\n",
    "J_lin = torch.autograd.grad(loss_lin, list(Linear_NN.parameters()), create_graph=True)\n",
    "J_lin = torch.cat([e.flatten() for e in J_lin]) # flatten\n",
    "\n",
    "# Fill in Hessian\n",
    "for i in range(num_param):\n",
    "    result = torch.autograd.grad(J_lin[i], list(Linear_NN.parameters()), retain_graph=True)\n",
    "    H_lin_init[i] = torch.cat([r.flatten() for r in result]) # flatten\n",
    "\n",
    "H_cond_lin_init.append(torch.linalg.cond(H_lin_init.detach()))\n",
    "H_spec_lin_init += list(torch.linalg.eigvalsh(H_lin_init.detach()))\n",
    "\n",
    "\n",
    "\n",
    "\n",
    "print('Calculations for ReLU networks')\n",
    "\n",
    "torch.manual_seed(314159)\n",
    "\n",
    "print('Network configurations: d = %d, k = %d, m = %d, L = %d ' %(d, k, m[0], L[0]))\n",
    "\n",
    "# initialize the weight matrices according to the defined initialization\n",
    "ReLU_NN.init_weights('kaiming_normal')\n",
    "\n",
    "# calculate the prediction at initialization with kaiming or xavier initialization(no training)\n",
    "y_hat_relu = ReLU_NN(x_data)\n",
    "\n",
    "# calculate the MSE given the prediction and the loss\n",
    "loss_relu = ((y_hat_relu - y_data)**2).mean()\n",
    "\n",
    "# Allocate Hessian size\n",
    "H_relu_init = torch.zeros((num_param, num_param))\n",
    "\n",
    "# Calculate Jacobian w.r.t. model parameters\n",
    "J_relu = torch.autograd.grad(loss_relu, list(ReLU_NN.parameters()), create_graph=True)\n",
    "J_relu = torch.cat([e.flatten() for e in J_relu]) # flatten\n",
    "\n",
    "# Fill in Hessian\n",
    "for i in range(num_param):\n",
    "    result = torch.autograd.grad(J_relu[i], list(ReLU_NN.parameters()), retain_graph=True)\n",
    "    H_relu_init[i] = torch.cat([r.flatten() for r in result]) # flatten\n",
    "\n",
    "H_cond_relu_init.append(torch.linalg.cond(H_relu_init.detach()))\n",
    "H_spec_relu_init += list(torch.linalg.eigvalsh(H_relu_init.detach()))\n",
    "\n"
   ]
  },
  {
   "cell_type": "code",
   "execution_count": 8,
   "id": "afc17661",
   "metadata": {},
   "outputs": [
    {
     "data": {
      "text/latex": [
       "$\\kappa(H_{lin})$ =  3799.8912093168256"
      ],
      "text/plain": [
       "<IPython.core.display.Latex object>"
      ]
     },
     "metadata": {},
     "output_type": "display_data"
    },
    {
     "data": {
      "text/latex": [
       "$\\kappa(H_{relu})$ =  616619.962142757"
      ],
      "text/plain": [
       "<IPython.core.display.Latex object>"
      ]
     },
     "metadata": {},
     "output_type": "display_data"
    }
   ],
   "source": [
    "display(Latex(f'$\\kappa(H_{{lin}})$ =  {H_cond_lin_init[0]}'))\n",
    "display(Latex(f'$\\kappa(H_{{relu}})$ =  {H_cond_relu_init[0]}'))"
   ]
  },
  {
   "cell_type": "code",
   "execution_count": 9,
   "id": "1abaeeee",
   "metadata": {},
   "outputs": [],
   "source": [
    "from torch import optim\n",
    "import torch.nn.functional as F\n",
    "from torch.utils.data import TensorDataset, DataLoader\n",
    "\n",
    "\n",
    "train_ds = TensorDataset(x_data, y_data)\n",
    "train_dl = DataLoader(train_ds, batch_size=1)\n",
    "\n",
    "loss_func = F.mse_loss"
   ]
  },
  {
   "cell_type": "code",
   "execution_count": 10,
   "id": "444d4684-55c5-4b0f-ba85-ffd91e1adbb9",
   "metadata": {
    "tags": []
   },
   "outputs": [
    {
     "name": "stdout",
     "output_type": "stream",
     "text": [
      "tensor(0.0013, grad_fn=<MseLossBackward0>)\n",
      "tensor(2.7392e-07, grad_fn=<MseLossBackward0>)\n",
      "tensor(1.4872e-10, grad_fn=<MseLossBackward0>)\n"
     ]
    }
   ],
   "source": [
    "opt_lin = optim.SGD(Linear_NN.parameters(), lr=0.001)\n",
    "\n",
    "epochs = 3\n",
    "for epoch in range(epochs):\n",
    "    for xb, yb in train_dl:\n",
    "        pred = Linear_NN(xb)\n",
    "        loss = loss_func(pred, yb)\n",
    "        \n",
    "        loss.backward()\n",
    "        opt_lin.step()\n",
    "        opt_lin.zero_grad()\n",
    "        \n",
    "    print(loss_func(Linear_NN(x_data), y_data))\n"
   ]
  },
  {
   "cell_type": "code",
   "execution_count": 11,
   "id": "15b346b5",
   "metadata": {},
   "outputs": [
    {
     "name": "stdout",
     "output_type": "stream",
     "text": [
      "tensor(0.4420, grad_fn=<MseLossBackward0>)\n",
      "tensor(0.0322, grad_fn=<MseLossBackward0>)\n",
      "tensor(0.0092, grad_fn=<MseLossBackward0>)\n",
      "tensor(0.0036, grad_fn=<MseLossBackward0>)\n",
      "tensor(0.0016, grad_fn=<MseLossBackward0>)\n"
     ]
    }
   ],
   "source": [
    "opt_relu = optim.SGD(ReLU_NN.parameters(), lr=0.001)\n",
    "\n",
    "epochs = 5\n",
    "for epoch in range(epochs):\n",
    "    for xb, yb in train_dl:\n",
    "        pred = ReLU_NN(xb)\n",
    "        loss = loss_func(pred, yb)\n",
    "        \n",
    "        loss.backward()\n",
    "        opt_relu.step()\n",
    "        opt_relu.zero_grad()\n",
    "        \n",
    "    print(loss_func(ReLU_NN(x_data), y_data))"
   ]
  },
  {
   "cell_type": "code",
   "execution_count": 12,
   "id": "99310879",
   "metadata": {},
   "outputs": [
    {
     "name": "stdout",
     "output_type": "stream",
     "text": [
      "Network configurations: d = 10, k = 10, m = 12, L = 0 \n",
      "Calculations for ReLU networks\n"
     ]
    }
   ],
   "source": [
    "H_cond_lin_trained = []\n",
    "H_o_tilde_cond_lin_trained = []\n",
    "H_spec_lin_trained = []\n",
    "\n",
    "H_cond_relu_trained = []\n",
    "H_spec_relu_trained = []\n",
    "\n",
    "\n",
    "print('Network configurations: d = %d, k = %d, m = %d, L = %d ' %(d, k, m[0], L[0]))\n",
    "\n",
    "V_kaiming = Linear_NN.lin_in.weight.detach()\n",
    "W_kaiming = Linear_NN.lin_out.weight.detach()\n",
    "\n",
    "# calculate the outer Hessian product according to the expression derived by Sidak\n",
    "H_o_tilde_lin_trained = torch.kron( W_kaiming @ W_kaiming.T, cov_xx ) + \\\n",
    "                torch.kron( torch.eye(k), V_kaiming.T @ V_kaiming @ cov_xx )\n",
    "H_o_tilde_cond_lin_trained.append(torch.linalg.cond(H_o_tilde_lin_trained))\n",
    "\n",
    "\n",
    "# calculate the prediction at the end of training\n",
    "y_hat_lin = Linear_NN(x_data)\n",
    "\n",
    "# calculate the MSE given the prediction and the loss\n",
    "loss_lin = ((y_hat_lin - y_data)**2).mean()\n",
    "\n",
    "# Allocate Hessian size\n",
    "H_lin_trained = torch.zeros((num_param, num_param))\n",
    "\n",
    "# Calculate Jacobian w.r.t. model parameters\n",
    "J_lin = torch.autograd.grad(loss_lin, list(Linear_NN.parameters()), create_graph=True)\n",
    "J_lin = torch.cat([e.flatten() for e in J_lin]) # flatten\n",
    "\n",
    "# Fill in Hessian\n",
    "for i in range(num_param):\n",
    "    result = torch.autograd.grad(J_lin[i], list(Linear_NN.parameters()), retain_graph=True)\n",
    "    H_lin_trained[i] = torch.cat([r.flatten() for r in result]) # flatten\n",
    "\n",
    "H_cond_lin_trained.append(torch.linalg.cond(H_lin_trained.detach()))\n",
    "H_spec_lin_trained += list(torch.linalg.eigvalsh(H_lin_trained.detach()))\n",
    "\n",
    "\n",
    "\n",
    "\n",
    "print('Calculations for ReLU networks')\n",
    "\n",
    "\n",
    "# calculate the prediction at the end of training \n",
    "y_hat_relu = ReLU_NN(x_data)\n",
    "\n",
    "# calculate the MSE given the prediction and the loss\n",
    "loss_relu = ((y_hat_relu - y_data)**2).mean()\n",
    "\n",
    "# Allocate Hessian size\n",
    "H_relu_trained = torch.zeros((num_param, num_param))\n",
    "\n",
    "# Calculate Jacobian w.r.t. model parameters\n",
    "J_relu = torch.autograd.grad(loss_relu, list(ReLU_NN.parameters()), create_graph=True)\n",
    "J_relu = torch.cat([e.flatten() for e in J_relu]) # flatten\n",
    "\n",
    "# Fill in Hessian\n",
    "for i in range(num_param):\n",
    "    result = torch.autograd.grad(J_relu[i], list(ReLU_NN.parameters()), retain_graph=True)\n",
    "    H_relu_trained[i] = torch.cat([r.flatten() for r in result]) # flatten\n",
    "\n",
    "H_cond_relu_trained.append(torch.linalg.cond(H_relu_trained.detach()))\n",
    "H_spec_relu_trained += list(torch.linalg.eigvalsh(H_relu_trained.detach()))\n",
    "\n"
   ]
  },
  {
   "cell_type": "code",
   "execution_count": 13,
   "id": "8b1e803b",
   "metadata": {},
   "outputs": [
    {
     "data": {
      "text/latex": [
       "$\\kappa(H_{lin})$ =  4996492858290855.0"
      ],
      "text/plain": [
       "<IPython.core.display.Latex object>"
      ]
     },
     "metadata": {},
     "output_type": "display_data"
    },
    {
     "data": {
      "text/latex": [
       "$\\kappa(H_{relu})$ =  4322145.567046444"
      ],
      "text/plain": [
       "<IPython.core.display.Latex object>"
      ]
     },
     "metadata": {},
     "output_type": "display_data"
    }
   ],
   "source": [
    "display(Latex(f'$\\kappa(H_{{lin}})$ =  {H_cond_lin_trained[0]}'))\n",
    "display(Latex(f'$\\kappa(H_{{relu}})$ =  {H_cond_relu_trained[0]}'))"
   ]
  },
  {
   "cell_type": "code",
   "execution_count": 14,
   "id": "04f9421e",
   "metadata": {},
   "outputs": [
    {
     "data": {
      "text/plain": [
       "([tensor(1329.3648)], [tensor(29.1906)])"
      ]
     },
     "execution_count": 14,
     "metadata": {},
     "output_type": "execute_result"
    }
   ],
   "source": [
    "H_o_tilde_cond_lin_init, H_o_tilde_cond_lin_trained"
   ]
  },
  {
   "cell_type": "code",
   "execution_count": 15,
   "id": "d508a7b3",
   "metadata": {},
   "outputs": [
    {
     "data": {
      "text/plain": [
       "Text(0.5, 0, '$\\\\lambda$')"
      ]
     },
     "execution_count": 15,
     "metadata": {},
     "output_type": "execute_result"
    },
    {
     "data": {
      "image/png": "[encoded data removed]",
      "text/plain": [
       "<Figure size 640x480 with 1 Axes>"
      ]
     },
     "metadata": {},
     "output_type": "display_data"
    }
   ],
   "source": [
    "plt.title('Spectrum of full Hessian of linear NN at init. and after training')\n",
    "\n",
    "plt.hist(np.linalg.eigvalsh(H_lin_init), alpha=0.7, bins=15, label='init')\n",
    "plt.hist(np.linalg.eigvalsh(H_lin_trained), alpha=0.7, bins=15, label='trained')\n",
    "plt.legend()\n",
    "\n",
    "plt.xlabel('$\\lambda$')"
   ]
  },
  {
   "cell_type": "code",
   "execution_count": 17,
   "id": "2e8835f2",
   "metadata": {},
   "outputs": [
    {
     "data": {
      "text/plain": [
       "Text(0.5, 0, '$\\\\lambda$')"
      ]
     },
     "execution_count": 17,
     "metadata": {},
     "output_type": "execute_result"
    },
    {
     "data": {
      "image/png": "[encoded data removed]",
      "text/plain": [
       "<Figure size 640x480 with 1 Axes>"
      ]
     },
     "metadata": {},
     "output_type": "display_data"
    }
   ],
   "source": [
    "plt.title('Spectrum of full Hessian of relu NN at init. and after training')\n",
    "\n",
    "plt.hist(np.linalg.eigvalsh(H_relu_init), alpha=0.7, bins=15, label='init')\n",
    "plt.hist(np.linalg.eigvalsh(H_relu_trained), alpha=0.7, bins=15, label='trained')\n",
    "plt.legend()\n",
    "\n",
    "plt.xlabel('$\\lambda$')"
   ]
  },
  {
   "cell_type": "code",
   "execution_count": 16,
   "id": "b932b6c6",
   "metadata": {},
   "outputs": [
    {
     "data": {
      "text/plain": [
       "<matplotlib.legend.Legend at 0x7f3128869610>"
      ]
     },
     "execution_count": 16,
     "metadata": {},
     "output_type": "execute_result"
    },
    {
     "data": {
      "image/png": "[encoded data removed]",
      "text/plain": [
       "<Figure size 640x480 with 1 Axes>"
      ]
     },
     "metadata": {},
     "output_type": "display_data"
    }
   ],
   "source": [
    "plt.title('Spectrum of outer product Hessian of linear NN at init. and after training')\n",
    "plt.hist(np.linalg.eigvalsh(H_o_tilde_lin_init),alpha=0.7, bins=15, label='init')\n",
    "plt.hist(np.linalg.eigvalsh(H_o_tilde_lin_trained),alpha=0.7, bins=15, label='trained')\n",
    "\n",
    "plt.xlabel('$\\lambda$')\n",
    "plt.legend()"
   ]
  },
  {
   "cell_type": "code",
   "execution_count": 19,
   "id": "eac3ea04",
   "metadata": {},
   "outputs": [
    {
     "data": {
      "text/plain": [
       "-0.004317425128456785"
      ]
     },
     "execution_count": 19,
     "metadata": {},
     "output_type": "execute_result"
    }
   ],
   "source": [
    "np.linalg.eigvalsh(H_relu_trained)[0]"
   ]
  },
  {
   "cell_type": "code",
   "execution_count": 26,
   "id": "f396e8e1",
   "metadata": {},
   "outputs": [
    {
     "data": {
      "text/plain": [
       "240"
      ]
     },
     "execution_count": 26,
     "metadata": {},
     "output_type": "execute_result"
    }
   ],
   "source": [
    "len(np.linalg.eigvalsh(H_lin_trained))"
   ]
  },
  {
   "cell_type": "code",
   "execution_count": 28,
   "id": "6f99a69c",
   "metadata": {},
   "outputs": [
    {
     "data": {
      "text/plain": [
       "4996492858290855.0"
      ]
     },
     "execution_count": 28,
     "metadata": {},
     "output_type": "execute_result"
    }
   ],
   "source": [
    "np.linalg.cond(H_lin_trained)"
   ]
  },
  {
   "cell_type": "code",
   "execution_count": 36,
   "id": "e720bb91",
   "metadata": {},
   "outputs": [],
   "source": [
    "sorted_eval = np.sort((np.abs(np.linalg.eigvalsh(H_lin_trained))))"
   ]
  },
  {
   "cell_type": "code",
   "execution_count": 37,
   "id": "3f9de1a9",
   "metadata": {},
   "outputs": [
    {
     "data": {
      "text/plain": [
       "12599535890174.344"
      ]
     },
     "execution_count": 37,
     "metadata": {},
     "output_type": "execute_result"
    }
   ],
   "source": [
    "max(np.abs(np.linalg.eigvalsh(H_lin_trained)))/sorted_eval[17]"
   ]
  },
  {
   "cell_type": "code",
   "execution_count": 22,
   "id": "00ea2091",
   "metadata": {},
   "outputs": [
    {
     "data": {
      "text/plain": [
       "array([-9.99961183e-06, -8.22447798e-06, -4.10151105e-06, -3.35161138e-06,\n",
       "       -3.32992199e-06, -3.30896310e-06, -3.28221059e-06, -3.21962538e-06,\n",
       "       -3.07398624e-06, -3.01301002e-06, -2.83703363e-06, -1.02664844e-06,\n",
       "       -8.65659578e-07, -5.22991815e-07, -3.95568650e-07, -3.94682953e-07,\n",
       "       -3.92124360e-07, -3.85885914e-07, -3.67418044e-07, -3.50431781e-07,\n",
       "       -2.99100454e-08, -2.45229164e-08, -2.25681125e-08, -1.71749852e-08,\n",
       "       -1.29198434e-08, -1.28852729e-08, -1.26581142e-08, -1.19353680e-08,\n",
       "       -3.98337731e-09, -3.61823567e-09, -2.66637048e-09, -2.35482022e-09,\n",
       "       -2.29903563e-09, -2.10447526e-09, -1.60939221e-09, -1.40990955e-09,\n",
       "       -9.68120431e-10, -9.14274753e-10, -7.80451502e-10, -6.77182191e-10,\n",
       "       -4.85823489e-10, -2.69784906e-10, -2.37725536e-10, -1.32408394e-10,\n",
       "       -1.18956724e-10, -8.29339342e-11, -6.43285199e-11, -5.45521271e-11,\n",
       "       -4.37816602e-11, -3.87937965e-11, -1.64932579e-11, -1.47008631e-11,\n",
       "       -8.45811353e-12, -6.46782199e-12, -4.27784686e-12, -1.97671446e-12,\n",
       "       -1.88131631e-12, -1.76351607e-12, -9.50014938e-13, -8.19019894e-13,\n",
       "       -2.20195370e-13, -1.35862965e-13, -1.01608974e-13, -9.67181905e-14,\n",
       "       -3.46028174e-14, -3.37849878e-14, -2.87896292e-14, -1.08172397e-14,\n",
       "       -2.08087162e-15,  3.35172617e-14,  3.84175808e-14,  4.69488968e-14,\n",
       "        5.86088149e-14,  9.55479070e-14,  1.01933148e-13,  1.99178899e-13,\n",
       "        2.46702160e-13,  8.94385841e-13,  9.02804015e-13,  1.87758532e-12,\n",
       "        2.11360588e-12,  3.47654744e-12,  6.01027981e-12,  6.48485108e-12,\n",
       "        1.36392175e-11,  1.46237075e-11,  1.65410485e-11,  1.76177844e-11,\n",
       "        3.89212390e-11,  5.04299116e-11,  6.19135875e-11,  8.15474428e-11,\n",
       "        1.14134683e-10,  1.21073269e-10,  1.35852145e-10,  1.98206833e-10,\n",
       "        3.31395668e-10,  5.65169912e-10,  7.64182797e-10,  8.60341232e-10,\n",
       "        1.27144600e-09,  1.36804553e-09,  1.56837514e-09,  1.63286648e-09,\n",
       "        1.79998138e-09,  2.17061688e-09,  2.62740630e-09,  2.92430884e-09,\n",
       "        3.24089635e-09,  3.66095128e-09,  4.02680973e-09,  1.10021322e-08,\n",
       "        1.19469501e-08,  1.27221739e-08,  1.28853430e-08,  1.29361429e-08,\n",
       "        1.62096724e-08,  2.46803991e-08,  2.89251531e-08,  5.17017169e-08,\n",
       "        3.50231099e-07,  3.67199604e-07,  3.86035726e-07,  3.92194595e-07,\n",
       "        3.94764441e-07,  3.95611270e-07,  5.21542502e-07,  8.56431773e-07,\n",
       "        1.03783551e-06,  2.83668029e-06,  3.00129615e-06,  3.10133943e-06,\n",
       "        3.22074156e-06,  3.28250176e-06,  3.30895841e-06,  3.32970294e-06,\n",
       "        3.35072723e-06,  4.14685613e-06,  8.73906091e-06,  1.02558257e-05,\n",
       "        3.57688831e-01,  3.96267093e-01,  4.10903118e-01,  4.48434044e-01,\n",
       "        4.49204073e-01,  4.59540865e-01,  4.95994519e-01,  5.00224137e-01,\n",
       "        5.34123175e-01,  5.34562457e-01,  5.46879811e-01,  5.68710441e-01,\n",
       "        5.72678863e-01,  5.87130930e-01,  5.95622163e-01,  6.18489444e-01,\n",
       "        6.25824953e-01,  6.28483137e-01,  6.35164902e-01,  6.40932997e-01,\n",
       "        6.43002166e-01,  6.72420097e-01,  6.74317542e-01,  6.77621226e-01,\n",
       "        6.78977042e-01,  6.94863916e-01,  7.08808043e-01,  7.14772615e-01,\n",
       "        7.21249941e-01,  7.32101238e-01,  7.42339357e-01,  7.43853553e-01,\n",
       "        7.48550512e-01,  7.69531083e-01,  7.80638854e-01,  7.92485731e-01,\n",
       "        7.95666983e-01,  8.09668869e-01,  8.14275399e-01,  8.15281045e-01,\n",
       "        8.21920846e-01,  8.54657527e-01,  8.55053164e-01,  8.70764434e-01,\n",
       "        8.75562736e-01,  8.87213975e-01,  9.06963134e-01,  9.16418194e-01,\n",
       "        9.20059756e-01,  9.27917036e-01,  9.29191899e-01,  9.61643093e-01,\n",
       "        9.67179566e-01,  9.78981506e-01,  9.92735587e-01,  1.00813369e+00,\n",
       "        1.03538551e+00,  1.07261167e+00,  1.07739401e+00,  1.11627093e+00,\n",
       "        1.11853594e+00,  1.12227938e+00,  1.14957807e+00,  1.16566650e+00,\n",
       "        1.17497426e+00,  1.18303986e+00,  1.21847502e+00,  1.22311222e+00,\n",
       "        1.22783703e+00,  1.29690640e+00,  1.31998516e+00,  1.35775647e+00,\n",
       "        1.36094431e+00,  1.37211615e+00,  1.40260089e+00,  1.42743659e+00,\n",
       "        1.42812409e+00,  1.47382754e+00,  1.47572221e+00,  1.47910705e+00,\n",
       "        1.55592614e+00,  1.55696437e+00,  1.62092511e+00,  1.66655243e+00,\n",
       "        1.66793862e+00,  1.74439558e+00,  1.82800247e+00,  1.91047031e+00,\n",
       "        1.94294151e+00,  2.19509547e+00,  5.66643274e+00,  5.97390107e+00,\n",
       "        6.25562283e+00,  6.68876890e+00,  7.04688162e+00,  7.31124396e+00,\n",
       "        7.74296512e+00,  8.21726066e+00,  8.87242081e+00,  1.03192705e+01])"
      ]
     },
     "execution_count": 22,
     "metadata": {},
     "output_type": "execute_result"
    }
   ],
   "source": [
    "np.linalg.eigvalsh(H_lin_trained)"
   ]
  },
  {
   "cell_type": "code",
   "execution_count": 24,
   "id": "e448371b",
   "metadata": {},
   "outputs": [
    {
     "data": {
      "text/plain": [
       "240"
      ]
     },
     "execution_count": 24,
     "metadata": {},
     "output_type": "execute_result"
    }
   ],
   "source": [
    "np.linalg.matrix_rank(H_lin_init)"
   ]
  },
  {
   "cell_type": "code",
   "execution_count": 25,
   "id": "ffb3b412",
   "metadata": {},
   "outputs": [
    {
     "data": {
      "text/plain": [
       "223"
      ]
     },
     "execution_count": 25,
     "metadata": {},
     "output_type": "execute_result"
    }
   ],
   "source": [
    "np.linalg.matrix_rank(H_lin_trained)"
   ]
  },
  {
   "cell_type": "code",
   "execution_count": 23,
   "id": "5337343f",
   "metadata": {},
   "outputs": [
    {
     "data": {
      "text/plain": [
       "array([-2.69958870e+00, -2.66680320e+00, -2.62614273e+00, -2.58679077e+00,\n",
       "       -2.51771475e+00, -2.41414733e+00, -2.35191219e+00, -2.27036859e+00,\n",
       "       -2.12907567e+00, -1.86631521e+00, -1.73033995e+00, -1.53930339e+00,\n",
       "       -1.06991313e+00, -1.06454463e+00, -1.05159047e+00, -1.02767584e+00,\n",
       "       -1.01957080e+00, -1.00861496e+00, -9.57274788e-01, -9.44201454e-01,\n",
       "       -8.79027052e-01, -8.44151624e-01, -8.04895504e-01, -6.25837999e-01,\n",
       "       -6.03215654e-01, -5.97909486e-01, -5.77576645e-01, -5.70077941e-01,\n",
       "       -5.29018489e-01, -5.01553010e-01, -4.93259236e-01, -4.61036172e-01,\n",
       "       -4.46120942e-01, -4.38354913e-01, -4.27888062e-01, -4.10339228e-01,\n",
       "       -3.97302943e-01, -3.92435215e-01, -3.87364030e-01, -3.85339601e-01,\n",
       "       -3.81674876e-01, -3.70365898e-01, -3.67024084e-01, -3.63786778e-01,\n",
       "       -3.58401359e-01, -3.50578250e-01, -3.45581746e-01, -3.42972876e-01,\n",
       "       -3.39958287e-01, -3.36436325e-01, -3.30738389e-01, -3.25599896e-01,\n",
       "       -3.21724646e-01, -3.13136302e-01, -3.07662406e-01, -2.99650320e-01,\n",
       "       -2.96260224e-01, -2.92654172e-01, -2.71111053e-01, -2.71017291e-01,\n",
       "       -2.63183442e-01, -2.55139688e-01, -2.46955952e-01, -2.41718630e-01,\n",
       "       -2.23501104e-01, -2.22162439e-01, -2.10052354e-01, -2.02258643e-01,\n",
       "       -1.79659900e-01, -1.75624431e-01, -1.71090480e-01, -1.50403025e-01,\n",
       "       -1.44874953e-01, -1.35637021e-01, -1.21509792e-01, -1.16617990e-01,\n",
       "       -1.02394580e-01, -8.98564964e-02, -8.22593133e-02, -7.88858321e-02,\n",
       "       -6.31367235e-02, -5.25278635e-02, -3.96317767e-02, -3.38723957e-02,\n",
       "       -2.47129189e-02, -2.35212670e-02, -2.09364932e-02, -1.98580550e-02,\n",
       "       -1.46983186e-02, -5.97030458e-03,  2.73555211e-03,  3.44283573e-03,\n",
       "        1.28532713e-02,  1.60200142e-02,  2.24834795e-02,  2.65172385e-02,\n",
       "        3.47793217e-02,  4.31900366e-02,  4.89623323e-02,  5.17802162e-02,\n",
       "        5.28158922e-02,  6.08662418e-02,  6.85592499e-02,  8.12160525e-02,\n",
       "        8.65498159e-02,  9.35631030e-02,  9.88230726e-02,  1.17801498e-01,\n",
       "        1.26249333e-01,  1.38873688e-01,  1.40941691e-01,  1.53537909e-01,\n",
       "        1.67498644e-01,  1.75398155e-01,  1.79984120e-01,  1.84681396e-01,\n",
       "        1.91932963e-01,  1.95965335e-01,  2.04319108e-01,  2.12316333e-01,\n",
       "        2.15366875e-01,  2.29369507e-01,  2.38714033e-01,  2.56065856e-01,\n",
       "        2.72761517e-01,  2.86459103e-01,  3.15121816e-01,  3.23034138e-01,\n",
       "        3.30631409e-01,  3.60865141e-01,  3.72229704e-01,  3.80119820e-01,\n",
       "        3.84932017e-01,  3.92902611e-01,  4.02585982e-01,  4.12003730e-01,\n",
       "        4.20773282e-01,  4.25208552e-01,  4.36060193e-01,  4.36737748e-01,\n",
       "        4.51941943e-01,  4.56695291e-01,  4.61519487e-01,  4.68284051e-01,\n",
       "        4.70700639e-01,  4.84939100e-01,  4.96699715e-01,  5.01930028e-01,\n",
       "        5.08180414e-01,  5.32172932e-01,  5.46425630e-01,  5.55049917e-01,\n",
       "        5.61257481e-01,  5.61810311e-01,  5.83788242e-01,  5.99282948e-01,\n",
       "        6.25789405e-01,  6.29968400e-01,  6.41553279e-01,  6.49310782e-01,\n",
       "        6.58797731e-01,  6.66479234e-01,  6.70428988e-01,  6.89436545e-01,\n",
       "        6.98174920e-01,  7.09845220e-01,  7.12590008e-01,  7.39390242e-01,\n",
       "        7.46096489e-01,  7.59697671e-01,  7.71073408e-01,  7.89080948e-01,\n",
       "        8.06650096e-01,  8.12423451e-01,  8.26681088e-01,  8.63846284e-01,\n",
       "        8.75543337e-01,  8.95266694e-01,  9.19533522e-01,  9.24078231e-01,\n",
       "        9.37753225e-01,  9.61952629e-01,  9.78518692e-01,  1.02696253e+00,\n",
       "        1.04184298e+00,  1.05677121e+00,  1.06396969e+00,  1.07185815e+00,\n",
       "        1.08456180e+00,  1.09524855e+00,  1.10420920e+00,  1.12644244e+00,\n",
       "        1.13715332e+00,  1.16970909e+00,  1.17741283e+00,  1.21797610e+00,\n",
       "        1.23887071e+00,  1.25853727e+00,  1.30141850e+00,  1.32959523e+00,\n",
       "        1.33917052e+00,  1.37465277e+00,  1.38139634e+00,  1.42508409e+00,\n",
       "        1.48454695e+00,  1.49586900e+00,  1.57052215e+00,  1.59889726e+00,\n",
       "        1.60813375e+00,  1.67383554e+00,  1.69153260e+00,  1.79401507e+00,\n",
       "        1.83719756e+00,  1.91084336e+00,  1.93530332e+00,  1.99176160e+00,\n",
       "        2.05343165e+00,  2.20160654e+00,  2.25416878e+00,  2.27398101e+00,\n",
       "        2.36391926e+00,  2.47626104e+00,  2.55264719e+00,  2.59711651e+00,\n",
       "        2.69936818e+00,  2.75281494e+00,  2.85725130e+00,  3.03208770e+00,\n",
       "        3.17403512e+00,  3.27986973e+00,  4.00687696e+00,  4.34061150e+00,\n",
       "        4.52273362e+00,  4.82394009e+00,  5.33953378e+00,  6.13586863e+00,\n",
       "        6.24482879e+00,  7.85139401e+00,  8.63401975e+00,  1.03948004e+01])"
      ]
     },
     "execution_count": 23,
     "metadata": {},
     "output_type": "execute_result"
    }
   ],
   "source": [
    "np.linalg.eigvalsh(H_lin_init)"
   ]
  },
  {
   "cell_type": "code",
   "execution_count": null,
   "id": "54f44873",
   "metadata": {},
   "outputs": [],
   "source": []
  }
 ],
 "metadata": {
  "kernelspec": {
   "display_name": "Python 3 (ipykernel)",
   "language": "python",
   "name": "python3"
  },
  "language_info": {
   "codemirror_mode": {
    "name": "ipython",
    "version": 3
   },
   "file_extension": ".py",
   "mimetype": "text/x-python",
   "name": "python",
   "nbconvert_exporter": "python",
   "pygments_lexer": "ipython3",
   "version": "3.11.3"
  }
 },
 "nbformat": 4,
 "nbformat_minor": 5
}
