{
 "cells": [
  {
   "cell_type": "markdown",
   "id": "6720756f",
   "metadata": {},
   "source": [
    "### Adding skip connections to 1-hidden layer\n",
    "\n",
    "In the following it is analysed how inserting of skip connection can benefit the condition number of the outer product Hessian "
   ]
  },
  {
   "cell_type": "code",
   "execution_count": 2,
   "id": "6574c9a9",
   "metadata": {},
   "outputs": [],
   "source": [
    "import numpy as np\n",
    "import matplotlib.pyplot as plt\n",
    "import torch\n",
    "from torch import nn\n",
    "import time\n",
    "from IPython.display import display, Latex\n",
    "\n",
    "from torch.distributions.multivariate_normal import MultivariateNormal\n",
    "from datetime import datetime"
   ]
  },
  {
   "cell_type": "code",
   "execution_count": 3,
   "id": "a5b55606",
   "metadata": {},
   "outputs": [],
   "source": [
    "torch.set_default_dtype(torch.float64)"
   ]
  },
  {
   "cell_type": "code",
   "execution_count": 4,
   "id": "5edb86f0",
   "metadata": {},
   "outputs": [],
   "source": [
    "# Create model of linear NN with L hidden layers\n",
    "# input dim = d, hidden dim = m, output dim = k\n",
    "class Linear_NN(nn.Module):\n",
    "    def __init__(self,d,m,k,L):\n",
    "        \"\"\"\n",
    "            d: input dimension\n",
    "            m: hidden layer dimension \n",
    "            k: output dimension\n",
    "            L: number of hidden layers\n",
    "        \"\"\"\n",
    "        super().__init__()\n",
    "        \n",
    "        self.L = L\n",
    "        self.lin_out = nn.Linear(m, k, bias=False)\n",
    "        self.lin_in = nn.Linear(d, m, bias=False)\n",
    "        \n",
    "        self.lin_hidden = nn.ModuleList([nn.Linear(m, m, bias=False) for i in range(self.L)])\n",
    "        \n",
    "        \n",
    "    def forward(self, xb):\n",
    "        xb = self.lin_in(xb)\n",
    "        \n",
    "        for i in range(self.L):\n",
    "            xb = self.lin_hidden[i](xb)\n",
    "            \n",
    "        xb = self.lin_out(xb)\n",
    "        \n",
    "        return xb\n",
    "    \n",
    "    def init_weights(self, init_type):\n",
    "        if init_type == 'kaiming_normal':\n",
    "            torch.nn.init.kaiming_normal_(self.lin_in.weight, nonlinearity='linear')\n",
    "            torch.nn.init.kaiming_normal_(self.lin_out.weight, nonlinearity='linear')\n",
    "            for i in range(self.L):\n",
    "                torch.nn.init.kaiming_normal_(self.lin_hidden[i].weight, nonlinearity='linear')\n",
    "        elif init_type == 'kaiming_uniform':\n",
    "            torch.nn.init.kaiming_uniform_(self.lin_in.weight, nonlinearity='linear')\n",
    "            torch.nn.init.kaiming_uniform_(self.lin_out.weight, nonlinearity='linear')\n",
    "            for i in range(self.L):\n",
    "                torch.nn.init.kaiming_uniform_(self.lin_hidden[i].weight, nonlinearity='linear')\n",
    "        elif init_type == 'xavier_normal':\n",
    "            torch.nn.init.xavier_normal_(self.lin_in.weight)\n",
    "            torch.nn.init.xavier_normal_(self.lin_out.weight)\n",
    "            for i in range(self.L):\n",
    "                torch.nn.init.xavier_normal_(self.lin_hidden[i].weight)\n",
    "        elif init_type == 'xavier_uniform':\n",
    "            torch.nn.init.xavier_uniform_(self.lin_in.weight, nonlinearity='linear')\n",
    "            torch.nn.init.xavier_uniform_(self.lin_out.weight, nonlinearity='linear')\n",
    "            for i in range(self.L):\n",
    "                torch.nn.init.xavier_uniform_(self.lin_hidden[i].weight, nonlinearity='linear')\n",
    "        else:\n",
    "            print('Unknown initialization. Using Kaiming normal initialization')\n",
    "            torch.nn.init.kaiming_normal_(self.lin1.weight, nonlinearity='linear')\n",
    "            torch.nn.init.kaiming_normal_(self.lin2.weight, nonlinearity='linear')\n",
    "            for i in range(self.L):\n",
    "                torch.nn.init.kaiming_normal_(self.lin_hidden[i].weight, nonlinearity='linear')"
   ]
  },
  {
   "cell_type": "code",
   "execution_count": 7,
   "id": "f2f47c35",
   "metadata": {},
   "outputs": [],
   "source": [
    "d = 10 # input dimension\n",
    "m1 = [50, 60, 80, 100, 500, 1000] # hidden layer dimension\n",
    "k = 10 # output dimension\n",
    "\n",
    "L = 0 # number of hidden layers of dim \"m\"\n",
    "\n",
    "num_param = [] # count the number of parameters in the model\n",
    "Linear_Networks = []\n",
    "\n",
    "# initiate linear networks of given depth L[l] with m1 hidden units each\n",
    "for l in range(len(m1)):\n",
    "    Linear_Networks.append(Linear_NN(d,m1[l],k,L))\n",
    "    num_param.append(sum(p.numel() for p in Linear_NN(d,m1[l],k,L).parameters()))"
   ]
  },
  {
   "cell_type": "code",
   "execution_count": 8,
   "id": "4740cc04",
   "metadata": {},
   "outputs": [
    {
     "name": "stdout",
     "output_type": "stream",
     "text": [
      "Calculations for m= 50\n",
      "iter:  0\n",
      "iter:  1000\n",
      "Calculations for m= 60\n",
      "iter:  0\n",
      "iter:  1000\n",
      "Calculations for m= 80\n",
      "iter:  0\n",
      "iter:  1000\n",
      "Calculations for m= 100\n",
      "iter:  0\n",
      "iter:  1000\n",
      "Calculations for m= 500\n",
      "iter:  0\n",
      "iter:  1000\n",
      "Calculations for m= 1000\n",
      "iter:  0\n",
      "iter:  1000\n"
     ]
    }
   ],
   "source": [
    "rep = 2000\n",
    "\n",
    "beta = 1/(np.sqrt(L+2))\n",
    "gamma = 1/(np.sqrt(L+2))\n",
    "\n",
    "H_o_tilde_cond_kaiming_noskip = []\n",
    "H_o_tilde_cond_kaiming_skip = []\n",
    "\n",
    "cov_x = torch.eye(d)\n",
    "# cov_x[-1,-1] = 100\n",
    "\n",
    "# define multi-variate normal generator with unit matrix as variance\n",
    "mvrn_d = MultivariateNormal(torch.zeros(d),cov_x)\n",
    "mvrn_k = MultivariateNormal(torch.zeros(k),torch.eye(k))\n",
    "\n",
    "# sample n (input,output) tuples\n",
    "n = 10000\n",
    "x = mvrn_d.rsample((n,))    \n",
    "y = mvrn_k.rsample((n,))\n",
    "\n",
    "# calculate the empirical input covariance matrix and its condition number\n",
    "cov_xx = x.T @ x / n\n",
    "\n",
    "cond_cov_xx = np.linalg.cond(cov_xx)\n",
    "\n",
    "# do the calculations for each l in L\n",
    "for l in range(len(m1)):\n",
    "    print('Calculations for m=',m1[l])\n",
    "    # repeat the calculation at initialization for \"rep\" times\n",
    "    H_o_tilde_cond_skip = []\n",
    "    H_o_tilde_cond_noskip = []\n",
    "    \n",
    "    H_o_tilde_cond_l_upper_bound = []\n",
    "    for i in range(rep):\n",
    "\n",
    "        if i%1000 == 0:\n",
    "            print('iter: ', i)\n",
    "\n",
    "        # initialize the weight matrices according to the defined initialization\n",
    "        Linear_Networks[l].init_weights('kaiming_normal')\n",
    "        \n",
    "        \n",
    "        V_kaiming = Linear_Networks[l].lin_in.weight\n",
    "        W_kaiming = Linear_Networks[l].lin_out.weight\n",
    "\n",
    "        identity_W = torch.eye(W_kaiming.shape[0],W_kaiming.shape[1]) \n",
    "        identity_V = torch.eye(V_kaiming.shape[0],V_kaiming.shape[1])\n",
    "        # calculate the outer Hessian product according to the expression derived by Sidak\n",
    "        H_o_tilde_noskip = torch.kron(W_kaiming@W_kaiming.T, cov_xx) + torch.kron( torch.eye(k), V_kaiming.T@V_kaiming@cov_xx)\n",
    "\n",
    "        \n",
    "        H_o_tilde_skip = torch.kron(( W_kaiming + beta *  identity_W) @ ( W_kaiming + beta * identity_W ).T, cov_xx) + \\\n",
    "                               torch.kron( torch.eye(k), ( V_kaiming + gamma * identity_V ).T @  \n",
    "                                                          ( V_kaiming + gamma * identity_V ) @ cov_xx)\n",
    "        H_o_tilde_cond_skip.append(torch.linalg.cond(H_o_tilde_skip.detach()))\n",
    "        \n",
    "        H_o_tilde_cond_noskip.append(torch.linalg.cond(H_o_tilde_noskip.detach()))\n",
    "              \n",
    "    \n",
    "    H_o_tilde_cond_kaiming_skip.append(H_o_tilde_cond_skip)\n",
    "    H_o_tilde_cond_kaiming_noskip.append(H_o_tilde_cond_noskip)\n",
    "       \n"
   ]
  },
  {
   "cell_type": "code",
   "execution_count": 9,
   "id": "e21e78d9",
   "metadata": {},
   "outputs": [
    {
     "data": {
      "text/latex": [
       "Average condition number of the outer product Hessian for $\\kappa(\\Sigma) \\approx $ 1"
      ],
      "text/plain": [
       "<IPython.core.display.Latex object>"
      ]
     },
     "metadata": {},
     "output_type": "display_data"
    },
    {
     "name": "stdout",
     "output_type": "stream",
     "text": [
      "No skip connection\n"
     ]
    },
    {
     "data": {
      "text/latex": [
       "$\\mathbb{E}[\\kappa(\\tilde{H}_{kai,o,m=50})]=5.113078719149994$"
      ],
      "text/plain": [
       "<IPython.core.display.Latex object>"
      ]
     },
     "metadata": {},
     "output_type": "display_data"
    },
    {
     "data": {
      "text/latex": [
       "$\\mathbb{E}[\\kappa(\\tilde{H}_{kai,o,m=60})]=4.3259951834349595$"
      ],
      "text/plain": [
       "<IPython.core.display.Latex object>"
      ]
     },
     "metadata": {},
     "output_type": "display_data"
    },
    {
     "data": {
      "text/latex": [
       "$\\mathbb{E}[\\kappa(\\tilde{H}_{kai,o,m=80})]=3.5052805401998635$"
      ],
      "text/plain": [
       "<IPython.core.display.Latex object>"
      ]
     },
     "metadata": {},
     "output_type": "display_data"
    },
    {
     "data": {
      "text/latex": [
       "$\\mathbb{E}[\\kappa(\\tilde{H}_{kai,o,m=100})]=3.0275003624774377$"
      ],
      "text/plain": [
       "<IPython.core.display.Latex object>"
      ]
     },
     "metadata": {},
     "output_type": "display_data"
    },
    {
     "data": {
      "text/latex": [
       "$\\mathbb{E}[\\kappa(\\tilde{H}_{kai,o,m=500})]=1.6336554453828291$"
      ],
      "text/plain": [
       "<IPython.core.display.Latex object>"
      ]
     },
     "metadata": {},
     "output_type": "display_data"
    },
    {
     "data": {
      "text/latex": [
       "$\\mathbb{E}[\\kappa(\\tilde{H}_{kai,o,m=1000})]=1.4231467581152988$"
      ],
      "text/plain": [
       "<IPython.core.display.Latex object>"
      ]
     },
     "metadata": {},
     "output_type": "display_data"
    },
    {
     "name": "stdout",
     "output_type": "stream",
     "text": [
      "With skip connection\n"
     ]
    },
    {
     "data": {
      "text/latex": [
       "$\\mathbb{E}[\\kappa(\\tilde{H}_{kai,o,m=50})]=4.958632153150338$"
      ],
      "text/plain": [
       "<IPython.core.display.Latex object>"
      ]
     },
     "metadata": {},
     "output_type": "display_data"
    },
    {
     "data": {
      "text/latex": [
       "$\\mathbb{E}[\\kappa(\\tilde{H}_{kai,o,m=60})]=4.2302830240464555$"
      ],
      "text/plain": [
       "<IPython.core.display.Latex object>"
      ]
     },
     "metadata": {},
     "output_type": "display_data"
    },
    {
     "data": {
      "text/latex": [
       "$\\mathbb{E}[\\kappa(\\tilde{H}_{kai,o,m=80})]=3.469461414884425$"
      ],
      "text/plain": [
       "<IPython.core.display.Latex object>"
      ]
     },
     "metadata": {},
     "output_type": "display_data"
    },
    {
     "data": {
      "text/latex": [
       "$\\mathbb{E}[\\kappa(\\tilde{H}_{kai,o,m=100})]=2.999597520648457$"
      ],
      "text/plain": [
       "<IPython.core.display.Latex object>"
      ]
     },
     "metadata": {},
     "output_type": "display_data"
    },
    {
     "data": {
      "text/latex": [
       "$\\mathbb{E}[\\kappa(\\tilde{H}_{kai,o,m=500})]=1.6322679019239232$"
      ],
      "text/plain": [
       "<IPython.core.display.Latex object>"
      ]
     },
     "metadata": {},
     "output_type": "display_data"
    },
    {
     "data": {
      "text/latex": [
       "$\\mathbb{E}[\\kappa(\\tilde{H}_{kai,o,m=1000})]=1.422959771510536$"
      ],
      "text/plain": [
       "<IPython.core.display.Latex object>"
      ]
     },
     "metadata": {},
     "output_type": "display_data"
    }
   ],
   "source": [
    "display(Latex(f'Average condition number of the outer product Hessian for $\\kappa(\\Sigma) \\\\approx $ 1'))\n",
    "\n",
    "print('No skip connection')\n",
    "for l in range(len(m1)):\n",
    "    display(Latex(f'$\\mathbb{{E}}[\\kappa(\\\\tilde{{H}}_{{kai,o,m={m1[l]}}})]={np.mean(H_o_tilde_cond_kaiming_noskip[l])}$'))\n",
    "\n",
    "print('With skip connection')\n",
    "for l in range(len(m1)):\n",
    "    display(Latex(f'$\\mathbb{{E}}[\\kappa(\\\\tilde{{H}}_{{kai,o,m={m1[l]}}})]={np.mean(H_o_tilde_cond_kaiming_skip[l])}$'))"
   ]
  },
  {
   "cell_type": "code",
   "execution_count": 10,
   "id": "859506e5",
   "metadata": {},
   "outputs": [
    {
     "data": {
      "text/plain": [
       "Text(0.5, 1.0, 'Condition number of 1-hidden layer NN with and without skip connection.')"
      ]
     },
     "execution_count": 10,
     "metadata": {},
     "output_type": "execute_result"
    },
    {
     "data": {
      "image/png": "[encoded data removed]",
      "text/plain": [
       "<Figure size 640x480 with 1 Axes>"
      ]
     },
     "metadata": {},
     "output_type": "display_data"
    }
   ],
   "source": [
    "plt.semilogy(m1,[np.mean(H_o_tilde_cond_kaiming_noskip[l]) for l in range(len(m1))],'-.', label='no skip')\n",
    "plt.semilogy(m1,[np.mean(H_o_tilde_cond_kaiming_skip[l]) for l in range(len(m1))],'--', label = 'skip')\n",
    "\n",
    "plt.legend()\n",
    "\n",
    "plt.xlabel(r'# hidden units $m$')\n",
    "plt.ylabel(r'$\\kappa(\\hat{H}_O)$')\n",
    "plt.title('Condition number of 1-hidden layer NN with and without skip connection.')"
   ]
  },
  {
   "cell_type": "markdown",
   "id": "4c7615a8",
   "metadata": {},
   "source": [
    "We can see the benefit of skip connections, but it is relatively marginal with increasing number of hidden units in the 1-hidden layer case. It would be interesting to see how it behaves for increasing number of hidden units. \n",
    "Also, it is unable to compensate for badly conditioned input covariance matrices."
   ]
  },
  {
   "cell_type": "code",
   "execution_count": 13,
   "id": "ed4e75a8",
   "metadata": {},
   "outputs": [
    {
     "data": {
      "text/latex": [
       "Upper bound of outer product Hessian $\\textbf{without}$ skip connection with high probability: $p = 1 - 8 \\exp(-t^2/2)$"
      ],
      "text/plain": [
       "<IPython.core.display.Latex object>"
      ]
     },
     "metadata": {},
     "output_type": "display_data"
    },
    {
     "data": {
      "text/latex": [
       "For $t = 3$, $p = 0.9111280276940615$"
      ],
      "text/plain": [
       "<IPython.core.display.Latex object>"
      ]
     },
     "metadata": {},
     "output_type": "display_data"
    },
    {
     "name": "stdout",
     "output_type": "stream",
     "text": [
      "[ 0.90879015  1.58368903  2.78199425  3.83772234 16.19840211 25.46049894]\n"
     ]
    },
    {
     "data": {
      "text/latex": [
       "for m=50, upper bound for Kaiming initialization $\\kappa(\\hat{H}_{O,Kai,m}) \\leq 212.03720784251783$"
      ],
      "text/plain": [
       "<IPython.core.display.Latex object>"
      ]
     },
     "metadata": {},
     "output_type": "display_data"
    },
    {
     "data": {
      "text/latex": [
       "for m=60, upper bound for Kaiming initialization $\\kappa(\\hat{H}_{O,Kai,m}) \\leq 77.12671003386508$"
      ],
      "text/plain": [
       "<IPython.core.display.Latex object>"
      ]
     },
     "metadata": {},
     "output_type": "display_data"
    },
    {
     "data": {
      "text/latex": [
       "for m=80, upper bound for Kaiming initialization $\\kappa(\\hat{H}_{O,Kai,m}) \\leq 29.486152287038163$"
      ],
      "text/plain": [
       "<IPython.core.display.Latex object>"
      ]
     },
     "metadata": {},
     "output_type": "display_data"
    },
    {
     "data": {
      "text/latex": [
       "for m=100, upper bound for Kaiming initialization $\\kappa(\\hat{H}_{O,Kai,m}) \\leq 17.736095823195438$"
      ],
      "text/plain": [
       "<IPython.core.display.Latex object>"
      ]
     },
     "metadata": {},
     "output_type": "display_data"
    },
    {
     "data": {
      "text/latex": [
       "for m=500, upper bound for Kaiming initialization $\\kappa(\\hat{H}_{O,Kai,m}) \\leq 3.100592955404893$"
      ],
      "text/plain": [
       "<IPython.core.display.Latex object>"
      ]
     },
     "metadata": {},
     "output_type": "display_data"
    },
    {
     "data": {
      "text/latex": [
       "for m=1000, upper bound for Kaiming initialization $\\kappa(\\hat{H}_{O,Kai,m}) \\leq 2.202451127571474$"
      ],
      "text/plain": [
       "<IPython.core.display.Latex object>"
      ]
     },
     "metadata": {},
     "output_type": "display_data"
    },
    {
     "data": {
      "text/latex": [
       "Upper bound of outer product Hessian $\\textbf{with}$ skip connection with high probability: $p = 1 - 8 \\exp(-t^2/2)$"
      ],
      "text/plain": [
       "<IPython.core.display.Latex object>"
      ]
     },
     "metadata": {},
     "output_type": "display_data"
    },
    {
     "data": {
      "text/latex": [
       "For $t = 3$, $p = 0.9111280276940615$"
      ],
      "text/plain": [
       "<IPython.core.display.Latex object>"
      ]
     },
     "metadata": {},
     "output_type": "display_data"
    },
    {
     "name": "stdout",
     "output_type": "stream",
     "text": [
      "[ 0.90879015  1.58368903  2.78199425  3.83772234 16.19840211 25.46049894]\n"
     ]
    },
    {
     "data": {
      "text/latex": [
       "for m=50, upper bound for Kaiming initialization $\\kappa(\\hat{H}_{O,Kai,m}) \\leq 15.009174785957347$"
      ],
      "text/plain": [
       "<IPython.core.display.Latex object>"
      ]
     },
     "metadata": {},
     "output_type": "display_data"
    },
    {
     "data": {
      "text/latex": [
       "for m=60, upper bound for Kaiming initialization $\\kappa(\\hat{H}_{O,Kai,m}) \\leq 14.321040086750823$"
      ],
      "text/plain": [
       "<IPython.core.display.Latex object>"
      ]
     },
     "metadata": {},
     "output_type": "display_data"
    },
    {
     "data": {
      "text/latex": [
       "for m=80, upper bound for Kaiming initialization $\\kappa(\\hat{H}_{O,Kai,m}) \\leq 12.408917334885844$"
      ],
      "text/plain": [
       "<IPython.core.display.Latex object>"
      ]
     },
     "metadata": {},
     "output_type": "display_data"
    },
    {
     "data": {
      "text/latex": [
       "for m=100, upper bound for Kaiming initialization $\\kappa(\\hat{H}_{O,Kai,m}) \\leq 10.626363653857151$"
      ],
      "text/plain": [
       "<IPython.core.display.Latex object>"
      ]
     },
     "metadata": {},
     "output_type": "display_data"
    },
    {
     "data": {
      "text/latex": [
       "for m=500, upper bound for Kaiming initialization $\\kappa(\\hat{H}_{O,Kai,m}) \\leq 3.1883050605073957$"
      ],
      "text/plain": [
       "<IPython.core.display.Latex object>"
      ]
     },
     "metadata": {},
     "output_type": "display_data"
    },
    {
     "data": {
      "text/latex": [
       "for m=1000, upper bound for Kaiming initialization $\\kappa(\\hat{H}_{O,Kai,m}) \\leq 2.262879548750484$"
      ],
      "text/plain": [
       "<IPython.core.display.Latex object>"
      ]
     },
     "metadata": {},
     "output_type": "display_data"
    }
   ],
   "source": [
    "## Check the theoretical upper bound for the 1-hidden layer NN without skip connection\n",
    "\n",
    "t = 3\n",
    "prob = 1 - 8 * np.exp(-t**2/2)\n",
    "m = np.array(m1)\n",
    "\n",
    "kappa_sigma = 1\n",
    "beta = 1\n",
    "gamma = 1\n",
    "epsilon = 0.01\n",
    "\n",
    "display(Latex(r'Upper bound of outer product Hessian $\\textbf{without}$ skip connection with high probability: $p = 1 - 8 \\exp(-t^2/2)$'))\n",
    "display(Latex(f'For $t = {t}$, $p = {prob}$'))\n",
    "\n",
    "\n",
    "# if np.minimum(np.sqrt(m)-np.sqrt(k)-t,np.sqrt(m)-np.sqrt(d)-t) < 0:\n",
    "#     print('Invalid choice of t')\n",
    "\n",
    "# else:\n",
    "\n",
    "# Kaiming initialization\n",
    "sigma2_w = 1/m\n",
    "sigma2_v = 1/d\n",
    "\n",
    "print(( np.sqrt(m) - np.sqrt(k) - t ))\n",
    "\n",
    "nominator_summand1 = sigma2_w*(np.sqrt(m)+np.sqrt(k)+t)**2 + sigma2_v*(np.sqrt(m)+np.sqrt(d)+t)**2\n",
    "# nominator_summand2 = 2*beta*np.sqrt(sigma2_v)*(2*np.sqrt(d)+t) + 2*gamma*np.sqrt(sigma2_w)*(2*np.sqrt(k)+t) + beta**2 + gamma**2\n",
    "denominator_summand1 = sigma2_w*(np.sqrt(m)-np.sqrt(k)-t)**2 + sigma2_v*(np.sqrt(m)-np.sqrt(d)-t)**2\n",
    "# denominator_summand2 = 2*beta*np.sqrt(sigma2_v)*epsilon/np.sqrt(d) + 2*gamma*np.sqrt(sigma2_w)*epsilon/np.sqrt(k)\n",
    "upperbound_noskip = kappa_sigma*(nominator_summand1)/(denominator_summand1)\n",
    "for i in range(0,len(upperbound_noskip)):\n",
    "    display(Latex(f'for m={m[i]}, upper bound for Kaiming initialization $\\kappa(\\hat{{H}}_{{O,Kai,m}}) \\leq {upperbound_noskip[i]}$'))\n",
    "    \n",
    "    \n",
    "\n",
    "\n",
    "## Check the theoretical upper bound for the 1-hidden layer NN with skip connection\n",
    "\n",
    "t = 3\n",
    "prob = 1 - 8 * np.exp(-t**2/2)\n",
    "m = np.array(m1)\n",
    "\n",
    "kappa_sigma = 1\n",
    "beta = 1\n",
    "gamma = 1\n",
    "epsilon = 0.01\n",
    "\n",
    "display(Latex(r'Upper bound of outer product Hessian $\\textbf{with}$ skip connection with high probability: $p = 1 - 8 \\exp(-t^2/2)$'))\n",
    "display(Latex(f'For $t = {t}$, $p = {prob}$'))\n",
    "\n",
    "\n",
    "# if np.minimum(np.sqrt(m)-np.sqrt(k)-t,np.sqrt(m)-np.sqrt(d)-t) < 0:\n",
    "#     print('Invalid choice of t')\n",
    "\n",
    "# else:\n",
    "\n",
    "# Kaiming initialization\n",
    "sigma2_w = 1/m\n",
    "sigma2_v = 1/d\n",
    "\n",
    "nominator_summand1 = sigma2_w * ( np.sqrt(m) + np.sqrt(k) + t )**2 \\\n",
    "                    + sigma2_v * ( np.sqrt(m) + np.sqrt(d) + t )**2\n",
    "nominator_summand2 = 2 * beta * np.sqrt(sigma2_v) * (2*np.sqrt(d)+t) \\\n",
    "                    + 2 * gamma * np.sqrt(sigma2_w) * (2 * np.sqrt(k) + t) \\\n",
    "                    + beta**2 + gamma**2\n",
    "denominator_summand1 = sigma2_w * ( np.sqrt(m) - np.sqrt(k) - t )**2 \\\n",
    "                    + sigma2_v * ( np.sqrt(m) - np.sqrt(d) - t )**2\n",
    "denominator_summand2 = 2 * beta * np.sqrt(sigma2_v) * epsilon / np.sqrt(d) \\\n",
    "                    + 2 * gamma * np.sqrt(sigma2_w) * epsilon / np.sqrt(k) \\\n",
    "                    + beta**2 + gamma**2\n",
    "upperbound_skip = kappa_sigma*(nominator_summand1+nominator_summand2)/(denominator_summand1+denominator_summand2)\n",
    "\n",
    "print(( np.sqrt(m) - np.sqrt(k) - t ))\n",
    "\n",
    "for i in range(0,len(upperbound_skip)):\n",
    "    display(Latex(f'for m={m[i]}, upper bound for Kaiming initialization $\\kappa(\\hat{{H}}_{{O,Kai,m}}) \\leq {upperbound_skip[i]}$'))\n"
   ]
  },
  {
   "cell_type": "code",
   "execution_count": 14,
   "id": "4281f956",
   "metadata": {},
   "outputs": [
    {
     "data": {
      "text/plain": [
       "Text(0.5, 0, 'hidden units $m$')"
      ]
     },
     "execution_count": 14,
     "metadata": {},
     "output_type": "execute_result"
    },
    {
     "data": {
      "image/png": "[encoded data removed]",
      "text/plain": [
       "<Figure size 640x480 with 2 Axes>"
      ]
     },
     "metadata": {},
     "output_type": "display_data"
    }
   ],
   "source": [
    "plt.subplot(121)\n",
    "plt.plot(m1,[np.mean(H_o_tilde_cond_kaiming_noskip[l]) for l in range(len(m1))],'-.', label='w/o skip')\n",
    "plt.plot(m1,upperbound_noskip, label='upper bound, w/o skip')\n",
    "\n",
    "# plt.ylim([0.9,15.5])\n",
    "\n",
    "plt.legend()\n",
    "\n",
    "plt.ylabel('$\\kappa(\\hat{H}_O)$')\n",
    "plt.xlabel('hidden units $m$')\n",
    "\n",
    "plt.subplot(122)\n",
    "plt.plot(m1,[np.mean(H_o_tilde_cond_kaiming_skip[l]) for l in range(len(m1))],'-.', label='w/ skip')\n",
    "plt.plot(m1,upperbound_skip, label='upper bound, w/ skip')\n",
    "plt.ylim([0.9,15.5])\n",
    "\n",
    "plt.legend()\n",
    "plt.xlabel('hidden units $m$')"
   ]
  },
  {
   "cell_type": "markdown",
   "id": "c4430189",
   "metadata": {},
   "source": [
    "The upper bound for $\\kappa(\\hat{H}_O)$ for a 1-hidden layer linear NN is much tighter for few hidden units due to the regularizing effect of the skip connection. However this effect diminishes if we increase the number of hidden units."
   ]
  },
  {
   "cell_type": "markdown",
   "id": "9124d08a",
   "metadata": {},
   "source": [
    "### Adding skip connections to L-hidden layers\n",
    "\n",
    "In the following it is analysed how inserting of skip connection can benefit the condition number of the outer product Hessian for L-hidden layer linear NN.\n",
    "The skip connection skips exactly one layer and is added for every layer"
   ]
  },
  {
   "cell_type": "code",
   "execution_count": 14,
   "id": "5bc6132a",
   "metadata": {},
   "outputs": [],
   "source": [
    "d = 5 # input dimension\n",
    "m1 = 20 # hidden layer dimension\n",
    "k = 6 # output dimension\n",
    "L = [0,1,2,3,4,5] # number of hidden layers of dim \"m\"\n",
    "# L = [30]\n",
    "num_param = [] # count the number of parameters in the model\n",
    "Linear_Networks = [] # list of NN with different number of hidden layers\n",
    "\n",
    "# initiate linear networks of given depth L[l] with m1 hidden units each\n",
    "for l in range(len(L)):\n",
    "    Linear_Networks.append(Linear_NN(d,m1,k,L[l]))\n",
    "    num_param.append(sum(p.numel() for p in Linear_NN(d,m1,k,L[l]).parameters()))"
   ]
  },
  {
   "cell_type": "code",
   "execution_count": 26,
   "id": "4e459829",
   "metadata": {},
   "outputs": [
    {
     "name": "stdout",
     "output_type": "stream",
     "text": [
      "#hidden layers: 0\n",
      "iter: 0\n",
      "#hidden layers: 1\n",
      "iter: 0\n",
      "#hidden layers: 2\n",
      "iter: 0\n",
      "#hidden layers: 3\n",
      "iter: 0\n",
      "#hidden layers: 4\n",
      "iter: 0\n",
      "#hidden layers: 5\n",
      "iter: 0\n"
     ]
    }
   ],
   "source": [
    "torch.manual_seed(314159265)\n",
    "\n",
    "rep = 100\n",
    "\n",
    "H_o_tilde_cond_kaiming_noskip_l = []\n",
    "H_o_tilde_cond_kaiming_skip_l = []\n",
    "\n",
    "H_o_cond_upper_bounds_noskip_l = []\n",
    "H_o_cond_upper_bounds_skip_l = []\n",
    "\n",
    "cov_x = torch.eye(d)\n",
    "\n",
    "# define multi-variate normal generator with unit matrix as variance\n",
    "mvrn_d = MultivariateNormal(torch.zeros(d),cov_x)\n",
    "mvrn_k = MultivariateNormal(torch.zeros(k),torch.eye(k))\n",
    "\n",
    "# sample n (input,output) tuples\n",
    "n = 10000\n",
    "x = mvrn_d.rsample((n,))    \n",
    "y = mvrn_k.rsample((n,))\n",
    "\n",
    "# calculate the empirical input covariance matrix and its condition number\n",
    "cov_xx = x.T @ x / n\n",
    "\n",
    "cond_cov_xx = torch.linalg.cond(cov_xx)\n",
    "\n",
    "# do the calculations for each linear NN\n",
    "for l in range(len(L)):\n",
    "    print('#hidden layers:', L[l])\n",
    "    \n",
    "    gamma = 20\n",
    "    beta = 20\n",
    "    delta = 20\n",
    "#     gamma = 1/np.sqrt(L[l]+2) #scale factor for layer_in skip connection\n",
    "#     beta = 1/np.sqrt(L[l]+2) #scale factor for layer_out skip connection\n",
    "#     delta = 1/np.sqrt(L[l]+2) #scale factor for layer_hidden skip connection\n",
    "\n",
    "    H_o_tilde_cond_noskip_l = []\n",
    "    H_o_tilde_cond_skip_l = []\n",
    "    \n",
    "    H_o_tilde_cond_l_upper_bound_noskip = []\n",
    "    H_o_tilde_cond_l_upper_bound_skip = []\n",
    "\n",
    "\n",
    "    identity_in = torch.eye(Linear_Networks[l].lin_in.weight.shape[0], \n",
    "                           Linear_Networks[l].lin_in.weight.shape[1]) \n",
    "    identity_out = torch.eye(Linear_Networks[l].lin_out.weight.shape[0],\n",
    "                           Linear_Networks[l].lin_out.weight.shape[1])\n",
    "    if L[l] > 0:\n",
    "        identity_hidden_layer = torch.eye(Linear_Networks[l].lin_hidden[0].weight.shape[0],\n",
    "                                          Linear_Networks[l].lin_hidden[0].weight.shape[1])\n",
    "    \n",
    "    for i in range(rep):\n",
    "\n",
    "        if i%1000 == 0:\n",
    "            print('iter:', i)\n",
    "\n",
    "        # initialize the weight matrices according to the defined initialization\n",
    "        Linear_Networks[l].init_weights('kaiming_normal')\n",
    "\n",
    "\n",
    "    ## calculate the condition number w/o skip connection\n",
    "        UT_U_noskip_l = torch.zeros((k*d,k*d))\n",
    "        \n",
    "        if L[l] == 0:\n",
    "            V_kaiming = Linear_Networks[l].lin_in.weight.detach()\n",
    "            W_kaiming = Linear_Networks[l].lin_out.weight.detach()\n",
    "\n",
    "\n",
    "            # calculate the outer Hessian product according to the expression derived by Sidak\n",
    "            H_o_tilde_noskip_l = torch.kron(W_kaiming@W_kaiming.T, cov_xx) + torch.kron( torch.eye(k), V_kaiming.T@V_kaiming@cov_xx)\n",
    "            H_o_tilde_cond_noskip_l.append(torch.linalg.cond(H_o_tilde_noskip_l))\n",
    "        \n",
    "\n",
    "        \n",
    "        else: \n",
    "            for j in range(1,L[l]+2+1):\n",
    "                if j == L[l]+2:\n",
    "                    fac1 = torch.eye(k)\n",
    "                else:\n",
    "                    fac1 = Linear_Networks[l].lin_out.weight.detach()\n",
    "                    \n",
    "                    for lay in range(-1,-2-L[l]+j,-1):\n",
    "                        fac1 = fac1 @ Linear_Networks[l].lin_hidden[lay].weight.detach()\n",
    "\n",
    "                fac1 = fac1 @ fac1.T\n",
    "\n",
    "                if j == 1:\n",
    "                    fac2 = torch.eye(d)\n",
    "                else:\n",
    "                    fac2 = Linear_Networks[l].lin_in.weight.detach().T\n",
    "\n",
    "                    for lay in range(j-2):\n",
    "                        fac2 = fac2 @ Linear_Networks[l].lin_hidden[lay].weight.detach().T\n",
    "\n",
    "                fac2 = fac2 @ fac2.T\n",
    "\n",
    "                UT_U_noskip_l += torch.kron(fac1,fac2)\n",
    "\n",
    "\n",
    "\n",
    "            # calculate the outer Hessian product according to the expression derived by Sidak\n",
    "            H_o_tilde_noskip_l = UT_U_noskip_l @ (torch.kron(torch.eye(k), cov_xx))\n",
    "            H_o_tilde_cond_noskip_l.append(torch.linalg.cond(H_o_tilde_noskip_l))\n",
    "            \n",
    "            \n",
    "    # calculate the theoretical upper bound of the condition number of outer product Hessian w/o skip connection\n",
    "    # based on the first approximation Eq. (56/57)\n",
    "        lam_max_upperb = 0\n",
    "        lam_min_lowerb = 0\n",
    "        \n",
    "        for el in range(1,L[l]+2+1):\n",
    "            if el == L[l]+2:\n",
    "                W_1 = torch.eye(k) \n",
    "            else:\n",
    "                W_1 = Linear_Networks[l].lin_out.weight.detach()\n",
    "            \n",
    "                for lay in range(-1,-2-L[l]+el,-1):\n",
    "                    W_1 = W_1 @ Linear_Networks[l].lin_hidden[lay].weight.detach()\n",
    "            \n",
    "            if el == 1:\n",
    "                W_2 = torch.eye(d)\n",
    "            else:\n",
    "                W_2 = Linear_Networks[l].lin_in.weight.detach().T\n",
    "                \n",
    "                for lay in range(el-2):\n",
    "                    W_2 = W_2 @ Linear_Networks[l].lin_hidden[lay].weight.detach().T\n",
    "            \n",
    "            lam_max_upperb += torch.linalg.eigvalsh(W_1 @ W_1.T)[-1] * torch.linalg.eigvalsh(W_2 @ W_2.T)[-1]\n",
    "            lam_min_lowerb += torch.linalg.eigvalsh(W_1 @ W_1.T)[0] * torch.linalg.eigvalsh(W_2 @ W_2.T)[0]            \n",
    "            \n",
    "        H_o_tilde_upper_b_noskip = ((lam_max_upperb)/(lam_min_lowerb)) * cond_cov_xx\n",
    "        H_o_tilde_cond_l_upper_bound_noskip.append(H_o_tilde_upper_b_noskip) \n",
    "\n",
    "\n",
    "# \n",
    "        \n",
    "# #         # calculate the theoretical upper bound of the condition number of outer product Hessian\n",
    "# #         H_o_tilde_upper_b = ( (torch.linalg.svdvals( Linear_Networks[l].lin_in.weight.detach() )[0] + beta)**2 * \\\n",
    "# #                              (torch.linalg.svdvals( Linear_Networks[l].lin_out.weight.detach() )[0] + gamma)**2 \n",
    "# #                             ) / \\\n",
    "# #                             ( (torch.linalg.svdvals( Linear_Networks[l].lin_in.weight.detach() )[-1] + beta)**2 * \\\n",
    "# #                              (torch.linalg.svdvals( Linear_Networks[l].lin_out.weight.detach() )[-1] + gamma)**2 \n",
    "# #                             )\n",
    "        \n",
    "# #         nominator = (1/(torch.linalg.svdvals( Linear_Networks[l].lin_in.weight.detach() )[0] + beta)**2) \\\n",
    "# #                     + (1/(torch.linalg.svdvals( Linear_Networks[l].lin_out.weight.detach() )[0] + gamma)**2)\n",
    "# #         denominator = (1/(torch.linalg.svdvals( Linear_Networks[l].lin_in.weight.detach() )[-1] + beta)**2) \\\n",
    "# #                     + (1/(torch.linalg.svdvals( Linear_Networks[l].lin_out.weight.detach() )[-1] + gamma)**2)\n",
    "       \n",
    "# #         for lay in range(L[l]):\n",
    "# #             H_o_tilde_upper_b *= ( (torch.linalg.svdvals( Linear_Networks[l].lin_hidden[lay].weight.detach() )[0] + delta)**2 ) \\\n",
    "# #                                     / \\\n",
    "# #                                  ( (torch.linalg.svdvals( Linear_Networks[l].lin_hidden[lay].weight.detach() )[min(d,k)+2] + delta)**2 )\n",
    "            \n",
    "            \n",
    "# #             nominator += ( torch.linalg.svdvals(Linear_Networks[l].lin_hidden[lay].weight.detach())[0] + delta )**2\n",
    "# #             denominator += ( torch.linalg.svdvals(Linear_Networks[l].lin_hidden[lay].weight.detach())[min(d,k)+2] + delta )**2\n",
    "            \n",
    "            \n",
    "# #         H_o_tilde_upper_b *= ((nominator)/(denominator)) * cond_cov_xx\n",
    "# #         H_o_tilde_cond_l_upper_bound_skip.append(H_o_tilde_upper_b)\n",
    "\n",
    "\n",
    "    ## calculate the condition number w/ skip connection        \n",
    "        UT_U_skip_l = torch.zeros((k*d,k*d))\n",
    "        \n",
    "        if L[l] == 0:\n",
    "            V_kaiming = Linear_Networks[l].lin_in.weight.detach()\n",
    "            W_kaiming = Linear_Networks[l].lin_out.weight.detach()\n",
    "\n",
    "\n",
    "            # calculate the outer Hessian product according to the expression derived by Sidak\n",
    "            H_o_tilde_skip_l = torch.kron(( W_kaiming + beta *  identity_out) @ ( W_kaiming + beta * identity_out ).T, cov_xx) + \\\n",
    "                           torch.kron( torch.eye(k), ( V_kaiming + gamma * identity_in ).T @  \n",
    "                                                      ( V_kaiming + gamma * identity_in ) @ cov_xx)\n",
    "            H_o_tilde_cond_skip_l.append(torch.linalg.cond(H_o_tilde_skip_l))\n",
    "        \n",
    "        else:\n",
    "            for j in range(1,L[l]+2+1):\n",
    "                if j == L[l]+2:\n",
    "                    fac1 = torch.eye(k,) \n",
    "                else:\n",
    "                    fac1 = (Linear_Networks[l].lin_out.weight.detach() + beta *  identity_out)\n",
    "\n",
    "                    for lay in range(-1,-2-L[l]+j,-1):\n",
    "                        fac1 = fac1 @ (Linear_Networks[l].lin_hidden[lay].weight.detach() + delta * identity_hidden_layer)\n",
    "\n",
    "                fac1 = fac1 @ fac1.T\n",
    "\n",
    "                if j == 1:\n",
    "                    fac2 = torch.eye(d)\n",
    "                else:\n",
    "                    fac2 = (Linear_Networks[l].lin_in.weight.detach() + gamma * identity_in).T\n",
    "\n",
    "                    for lay in range(j-2):\n",
    "                        fac2 = fac2 @ (Linear_Networks[l].lin_hidden[lay].weight.detach() + delta * identity_hidden_layer).T \n",
    "\n",
    "                fac2 = fac2 @ fac2.T\n",
    "\n",
    "                UT_U_skip_l += torch.kron(fac1,fac2)\n",
    "\n",
    "\n",
    "\n",
    "            # calculate the outer Hessian product according to the expression derived by Sidak\n",
    "            H_o_tilde_skip_l = UT_U_skip_l @ (torch.kron(torch.eye(k), cov_xx))\n",
    "            H_o_tilde_cond_skip_l.append(torch.linalg.cond(H_o_tilde_skip_l))\n",
    "            \n",
    "    # calculate the theoretical upper bound of the condition number of outer product Hessian w/o skip connection\n",
    "    # based on the first approximation Eq. (56/57)\n",
    "        lam_max_upperb = 0\n",
    "        lam_min_lowerb = 0\n",
    "        \n",
    "        for el in range(1,L[l]+2+1):\n",
    "            if el == L[l]+2:\n",
    "                W_1 = torch.eye(k) \n",
    "            else:\n",
    "                W_1 = (Linear_Networks[l].lin_out.weight.detach() + beta *  identity_out)\n",
    "            \n",
    "                for lay in range(-1,-2-L[l]+el,-1):\n",
    "                    W_1 = W_1 @ (Linear_Networks[l].lin_hidden[lay].weight.detach() + delta * identity_hidden_layer)\n",
    "            \n",
    "            if el == 1:\n",
    "                W_2 = torch.eye(d)\n",
    "            else:\n",
    "                W_2 = (Linear_Networks[l].lin_in.weight.detach() + gamma * identity_in).T\n",
    "                \n",
    "                for lay in range(el-2):\n",
    "                    W_2 = W_2 @ (Linear_Networks[l].lin_hidden[lay].weight.detach() + delta * identity_hidden_layer).T\n",
    "            \n",
    "            lam_max_upperb += torch.linalg.eigvalsh(W_1 @ W_1.T)[-1] * torch.linalg.eigvalsh(W_2 @ W_2.T)[-1]\n",
    "            lam_min_lowerb += torch.linalg.eigvalsh(W_1 @ W_1.T)[0] * torch.linalg.eigvalsh(W_2 @ W_2.T)[0]            \n",
    "            \n",
    "        H_o_tilde_upper_b_skip = ((lam_max_upperb)/(lam_min_lowerb)) * cond_cov_xx\n",
    "        H_o_tilde_cond_l_upper_bound_skip.append(H_o_tilde_upper_b_skip)\n",
    "      \n",
    "    \n",
    "    H_o_tilde_cond_kaiming_noskip_l.append(H_o_tilde_cond_noskip_l)\n",
    "    H_o_tilde_cond_kaiming_skip_l.append(H_o_tilde_cond_skip_l)\n",
    "    \n",
    "    H_o_cond_upper_bounds_skip_l.append(H_o_tilde_cond_l_upper_bound_skip)\n",
    "    H_o_cond_upper_bounds_noskip_l.append(H_o_tilde_cond_l_upper_bound_noskip)\n",
    "\n",
    "\n",
    "       \n"
   ]
  },
  {
   "cell_type": "code",
   "execution_count": 21,
   "id": "b11248a3",
   "metadata": {},
   "outputs": [
    {
     "data": {
      "text/plain": [
       "<matplotlib.legend.Legend at 0x7fd2394c1190>"
      ]
     },
     "execution_count": 21,
     "metadata": {},
     "output_type": "execute_result"
    },
    {
     "data": {
      "image/png": "[encoded data removed]",
      "text/plain": [
       "<Figure size 640x480 with 1 Axes>"
      ]
     },
     "metadata": {},
     "output_type": "display_data"
    }
   ],
   "source": [
    "for i,l in enumerate(L):\n",
    "    plt.hist(np.log(H_o_tilde_cond_kaiming_skip_l[i]), alpha=0.5, bins=30, label='$L= %d$' % l)\n",
    "\n",
    "plt.xlabel(f'$\\\\log(\\kappa(\\\\tilde{{H}}_O))$')\n",
    "plt.title(f'Condition number of $\\hat{{H}}_O$ of linear NN w/ skip connection at init. with different number of hidden layers')\n",
    "plt.legend()"
   ]
  },
  {
   "cell_type": "code",
   "execution_count": 22,
   "id": "2d94fea2",
   "metadata": {},
   "outputs": [
    {
     "data": {
      "text/plain": [
       "<matplotlib.legend.Legend at 0x7fd239149190>"
      ]
     },
     "execution_count": 22,
     "metadata": {},
     "output_type": "execute_result"
    },
    {
     "data": {
      "image/png": "[encoded data removed]",
      "text/plain": [
       "<Figure size 640x480 with 1 Axes>"
      ]
     },
     "metadata": {},
     "output_type": "display_data"
    }
   ],
   "source": [
    "for i,l in enumerate(L):\n",
    "    plt.hist(np.log(H_o_cond_upper_bounds_skip_l[i]), alpha=0.5, bins=30, label='$L= %d$' % l)\n",
    "\n",
    "plt.xlabel(f'$\\\\log(\\kappa(\\\\tilde{{H}}_O))$')\n",
    "plt.title(f'Upper bound on $\\kappa(\\hat{{H}}_O)$ of linear NN w/ skip connection at init. with different number of hidden layers')\n",
    "plt.legend()"
   ]
  },
  {
   "cell_type": "code",
   "execution_count": 23,
   "id": "0e3f24f7",
   "metadata": {},
   "outputs": [
    {
     "data": {
      "text/plain": [
       "Text(0.5, 1.0, 'Condition number of L-hidden layer NN with and without skip connection for fixed number of hidden units.')"
      ]
     },
     "execution_count": 23,
     "metadata": {},
     "output_type": "execute_result"
    },
    {
     "data": {
      "image/png": "[encoded data removed]",
      "text/plain": [
       "<Figure size 640x480 with 1 Axes>"
      ]
     },
     "metadata": {},
     "output_type": "display_data"
    }
   ],
   "source": [
    "mean_upper_bound_skip = [(np.mean(H_o_cond_upper_bounds_skip_l[i])) for i in range(len(L))]\n",
    "mean_H_o_tilde_cond_skip = [(np.mean(H_o_tilde_cond_kaiming_skip_l[i])) for i in range(len(L))]\n",
    "\n",
    "mean_upper_bound_noskip = [(np.mean(H_o_cond_upper_bounds_noskip_l[i])) for i in range(len(L))]\n",
    "mean_H_o_tilde_cond_noskip = [(np.mean(H_o_tilde_cond_kaiming_noskip_l[i])) for i in range(len(L))]\n",
    "\n",
    "\n",
    "# plt.semilogy(L, mean_upper_bound_skip, '-', label='avg. upper bound w/ skip')\n",
    "plt.semilogy(L, mean_H_o_tilde_cond_skip, '-.', label='avg. cond number H w/ skip')\n",
    "\n",
    "# plt.semilogy(L, mean_upper_bound_noskip, '-', label='avg. upper bound w/o skip')\n",
    "plt.semilogy(L, mean_H_o_tilde_cond_noskip, '-.', label='avg. cond number H w/o skip')\n",
    "plt.legend()\n",
    "plt.ylabel(r'$\\log(\\kappa(\\hat{H}_O))$')\n",
    "plt.xlabel('#hidden layers $L$')\n",
    "\n",
    "plt.ylabel(r'$\\mathbb{E}[\\kappa(\\hat{H}_O)]$')\n",
    "\n",
    "plt.title('Condition number of L-hidden layer NN with and without skip connection for fixed number of hidden units.')\n"
   ]
  },
  {
   "cell_type": "code",
   "execution_count": 27,
   "id": "8ade6c76",
   "metadata": {},
   "outputs": [
    {
     "data": {
      "text/plain": [
       "Text(0.5, 1.0, 'Condition number of L-hidden layer NN with and without skip connection for fixed number of hidden units.')"
      ]
     },
     "execution_count": 27,
     "metadata": {},
     "output_type": "execute_result"
    },
    {
     "data": {
      "image/png": "[encoded data removed]",
      "text/plain": [
       "<Figure size 640x480 with 1 Axes>"
      ]
     },
     "metadata": {},
     "output_type": "display_data"
    }
   ],
   "source": [
    "mean_upper_bound_skip = [(np.mean(H_o_cond_upper_bounds_skip_l[i])) for i in range(len(L))]\n",
    "mean_H_o_tilde_cond_skip = [(np.mean(H_o_tilde_cond_kaiming_skip_l[i])) for i in range(len(L))]\n",
    "\n",
    "mean_upper_bound_noskip = [(np.mean(H_o_cond_upper_bounds_noskip_l[i])) for i in range(len(L))]\n",
    "mean_H_o_tilde_cond_noskip = [(np.mean(H_o_tilde_cond_kaiming_noskip_l[i])) for i in range(len(L))]\n",
    "\n",
    "\n",
    "# plt.semilogy(L, mean_upper_bound_skip, '-', label='avg. upper bound w/ skip')\n",
    "plt.semilogy(L, mean_H_o_tilde_cond_skip, '-.', label='avg. cond number H w/ skip')\n",
    "\n",
    "# plt.semilogy(L, mean_upper_bound_noskip, '-', label='avg. upper bound w/o skip')\n",
    "plt.semilogy(L, mean_H_o_tilde_cond_noskip, '-.', label='avg. cond number H w/o skip')\n",
    "plt.legend()\n",
    "plt.ylabel(r'$\\log(\\kappa(\\hat{H}_O))$')\n",
    "plt.xlabel('#hidden layers $L$')\n",
    "\n",
    "plt.ylabel(r'$\\mathbb{E}[\\kappa(\\hat{H}_O)]$')\n",
    "\n",
    "plt.title('Condition number of L-hidden layer NN with and without skip connection for fixed number of hidden units.')\n"
   ]
  },
  {
   "cell_type": "code",
   "execution_count": 33,
   "id": "ae3b8271",
   "metadata": {},
   "outputs": [
    {
     "data": {
      "text/plain": [
       "(array([1., 0., 0., 0., 0., 0., 0., 0., 0., 1.]),\n",
       " array([-0.28359781, -0.00472097,  0.27415588,  0.55303272,  0.83190956,\n",
       "         1.1107864 ,  1.38966324,  1.66854008,  1.94741692,  2.22629376,\n",
       "         2.5051706 ]),\n",
       " <BarContainer object of 10 artists>)"
      ]
     },
     "execution_count": 33,
     "metadata": {},
     "output_type": "execute_result"
    },
    {
     "data": {
      "image/png": "[encoded data removed]",
      "text/plain": [
       "<Figure size 640x480 with 1 Axes>"
      ]
     },
     "metadata": {},
     "output_type": "display_data"
    }
   ],
   "source": [
    "plt.hist(np.array(H_o_tilde_cond_kaiming_noskip_l[1]) - np.array(H_o_tilde_cond_kaiming_skip_l[1]))"
   ]
  },
  {
   "cell_type": "code",
   "execution_count": 28,
   "id": "f0c765b5",
   "metadata": {},
   "outputs": [
    {
     "data": {
      "text/latex": [
       "Average condition number of the outer product Hessian $\\textbf{without}$ skip connection for different number of hidden layers:"
      ],
      "text/plain": [
       "<IPython.core.display.Latex object>"
      ]
     },
     "metadata": {},
     "output_type": "display_data"
    },
    {
     "data": {
      "text/latex": [
       "$\\mathbb{E}[\\kappa(\\tilde{H}_{kai,o,L=0})]=5.145644784766928$"
      ],
      "text/plain": [
       "<IPython.core.display.Latex object>"
      ]
     },
     "metadata": {},
     "output_type": "display_data"
    },
    {
     "data": {
      "text/latex": [
       "$\\mathbb{E}[\\kappa(\\tilde{H}_{kai,o,L=1})]=17.21867528500584$"
      ],
      "text/plain": [
       "<IPython.core.display.Latex object>"
      ]
     },
     "metadata": {},
     "output_type": "display_data"
    },
    {
     "data": {
      "text/latex": [
       "$\\mathbb{E}[\\kappa(\\tilde{H}_{kai,o,L=2})]=27.73435470782712$"
      ],
      "text/plain": [
       "<IPython.core.display.Latex object>"
      ]
     },
     "metadata": {},
     "output_type": "display_data"
    },
    {
     "data": {
      "text/latex": [
       "$\\mathbb{E}[\\kappa(\\tilde{H}_{kai,o,L=3})]=46.99020838032112$"
      ],
      "text/plain": [
       "<IPython.core.display.Latex object>"
      ]
     },
     "metadata": {},
     "output_type": "display_data"
    },
    {
     "data": {
      "text/latex": [
       "$\\mathbb{E}[\\kappa(\\tilde{H}_{kai,o,L=4})]=73.1492294644357$"
      ],
      "text/plain": [
       "<IPython.core.display.Latex object>"
      ]
     },
     "metadata": {},
     "output_type": "display_data"
    },
    {
     "data": {
      "text/latex": [
       "$\\mathbb{E}[\\kappa(\\tilde{H}_{kai,o,L=5})]=150.32205465717516$"
      ],
      "text/plain": [
       "<IPython.core.display.Latex object>"
      ]
     },
     "metadata": {},
     "output_type": "display_data"
    }
   ],
   "source": [
    "display(Latex(r'Average condition number of the outer product Hessian $\\textbf{without}$ skip connection for different number of hidden layers:'))\n",
    "\n",
    "for i in range(len(L)):\n",
    "    display(Latex(f'$\\mathbb{{E}}[\\kappa(\\\\tilde{{H}}_{{kai,o,L={L[i]}}})]={np.mean(H_o_tilde_cond_kaiming_noskip_l[i])}$'))\n"
   ]
  },
  {
   "cell_type": "code",
   "execution_count": 22,
   "id": "10d4c737",
   "metadata": {},
   "outputs": [
    {
     "data": {
      "text/latex": [
       "Average upper bound of condition number of the outer product Hessian $\\textbf{without}$ skip connection with scaling $1/\\sqrt{L}$ for different number of hidden layers:"
      ],
      "text/plain": [
       "<IPython.core.display.Latex object>"
      ]
     },
     "metadata": {},
     "output_type": "display_data"
    },
    {
     "data": {
      "text/latex": [
       "$\\mathbb{E}[\\kappa(\\tilde{H}_{kai,o,L=0})] \\leq 5.827925407861139$"
      ],
      "text/plain": [
       "<IPython.core.display.Latex object>"
      ]
     },
     "metadata": {},
     "output_type": "display_data"
    },
    {
     "data": {
      "text/latex": [
       "$\\mathbb{E}[\\kappa(\\tilde{H}_{kai,o,L=1})] \\leq 18.96405140825887$"
      ],
      "text/plain": [
       "<IPython.core.display.Latex object>"
      ]
     },
     "metadata": {},
     "output_type": "display_data"
    },
    {
     "data": {
      "text/latex": [
       "$\\mathbb{E}[\\kappa(\\tilde{H}_{kai,o,L=2})] \\leq 44.820154905303596$"
      ],
      "text/plain": [
       "<IPython.core.display.Latex object>"
      ]
     },
     "metadata": {},
     "output_type": "display_data"
    },
    {
     "data": {
      "text/latex": [
       "$\\mathbb{E}[\\kappa(\\tilde{H}_{kai,o,L=3})] \\leq 92.46901398329254$"
      ],
      "text/plain": [
       "<IPython.core.display.Latex object>"
      ]
     },
     "metadata": {},
     "output_type": "display_data"
    },
    {
     "data": {
      "text/latex": [
       "$\\mathbb{E}[\\kappa(\\tilde{H}_{kai,o,L=4})] \\leq 181.51113462886605$"
      ],
      "text/plain": [
       "<IPython.core.display.Latex object>"
      ]
     },
     "metadata": {},
     "output_type": "display_data"
    },
    {
     "data": {
      "text/latex": [
       "$\\mathbb{E}[\\kappa(\\tilde{H}_{kai,o,L=5})] \\leq 323.9386850264926$"
      ],
      "text/plain": [
       "<IPython.core.display.Latex object>"
      ]
     },
     "metadata": {},
     "output_type": "display_data"
    }
   ],
   "source": [
    "display(Latex(r'Average upper bound of condition number of the outer product Hessian $\\textbf{without}$ skip connection with scaling $1/\\sqrt{L}$ for different number of hidden layers:'))\n",
    "\n",
    "for i in range(len(L)):\n",
    "    display(Latex(f'$\\mathbb{{E}}[\\kappa(\\\\tilde{{H}}_{{kai,o,L={L[i]}}})] \\leq {np.mean(H_o_cond_upper_bounds_noskip_l[i])}$'))"
   ]
  },
  {
   "cell_type": "code",
   "execution_count": 75,
   "id": "9569bc54",
   "metadata": {},
   "outputs": [
    {
     "data": {
      "text/latex": [
       "Average condition number of the outer product Hessian $\\textbf{with}$ skip connection with scaling $1/\\sqrt{L}$ for different number of hidden layers:"
      ],
      "text/plain": [
       "<IPython.core.display.Latex object>"
      ]
     },
     "metadata": {},
     "output_type": "display_data"
    },
    {
     "data": {
      "text/latex": [
       "$\\mathbb{E}[\\kappa(\\tilde{H}_{kai,o,L = 0})]=5.3070219680169215$"
      ],
      "text/plain": [
       "<IPython.core.display.Latex object>"
      ]
     },
     "metadata": {},
     "output_type": "display_data"
    },
    {
     "data": {
      "text/latex": [
       "$\\mathbb{E}[\\kappa(\\tilde{H}_{kai,o,L = 1})]=14.08901238805779$"
      ],
      "text/plain": [
       "<IPython.core.display.Latex object>"
      ]
     },
     "metadata": {},
     "output_type": "display_data"
    },
    {
     "data": {
      "text/latex": [
       "$\\mathbb{E}[\\kappa(\\tilde{H}_{kai,o,L = 2})]=28.765098146008448$"
      ],
      "text/plain": [
       "<IPython.core.display.Latex object>"
      ]
     },
     "metadata": {},
     "output_type": "display_data"
    },
    {
     "data": {
      "text/latex": [
       "$\\mathbb{E}[\\kappa(\\tilde{H}_{kai,o,L = 3})]=54.9920064383791$"
      ],
      "text/plain": [
       "<IPython.core.display.Latex object>"
      ]
     },
     "metadata": {},
     "output_type": "display_data"
    },
    {
     "data": {
      "text/latex": [
       "$\\mathbb{E}[\\kappa(\\tilde{H}_{kai,o,L = 4})]=96.8251738997794$"
      ],
      "text/plain": [
       "<IPython.core.display.Latex object>"
      ]
     },
     "metadata": {},
     "output_type": "display_data"
    },
    {
     "data": {
      "text/latex": [
       "$\\mathbb{E}[\\kappa(\\tilde{H}_{kai,o,L = 5})]=162.26483900637797$"
      ],
      "text/plain": [
       "<IPython.core.display.Latex object>"
      ]
     },
     "metadata": {},
     "output_type": "display_data"
    }
   ],
   "source": [
    "display(Latex(r'Average condition number of the outer product Hessian $\\textbf{with}$ skip connection with scaling $1/\\sqrt{L}$ for different number of hidden layers:'))\n",
    "\n",
    "for i in range(len(L)):\n",
    "    display(Latex(f'$\\mathbb{{E}}[\\kappa(\\\\tilde{{H}}_{{kai,o,L = {L[i]}}})]={np.mean(H_o_tilde_cond_kaiming_skip_l[i])}$'))\n",
    "\n"
   ]
  },
  {
   "cell_type": "code",
   "execution_count": 76,
   "id": "fd87c6d4",
   "metadata": {},
   "outputs": [
    {
     "data": {
      "text/latex": [
       "Average upper bound of condition number of the outer product Hessian $\\textbf{with}$ skip connection with scaling $1/\\sqrt{L}$ for different number of hidden layers:"
      ],
      "text/plain": [
       "<IPython.core.display.Latex object>"
      ]
     },
     "metadata": {},
     "output_type": "display_data"
    },
    {
     "data": {
      "text/latex": [
       "$\\mathbb{E}[\\kappa(\\tilde{H}_{kai,o,L=0})] \\leq 5.567308555099744$"
      ],
      "text/plain": [
       "<IPython.core.display.Latex object>"
      ]
     },
     "metadata": {},
     "output_type": "display_data"
    },
    {
     "data": {
      "text/latex": [
       "$\\mathbb{E}[\\kappa(\\tilde{H}_{kai,o,L=1})] \\leq 17.724064114022607$"
      ],
      "text/plain": [
       "<IPython.core.display.Latex object>"
      ]
     },
     "metadata": {},
     "output_type": "display_data"
    },
    {
     "data": {
      "text/latex": [
       "$\\mathbb{E}[\\kappa(\\tilde{H}_{kai,o,L=2})] \\leq 41.78338679938685$"
      ],
      "text/plain": [
       "<IPython.core.display.Latex object>"
      ]
     },
     "metadata": {},
     "output_type": "display_data"
    },
    {
     "data": {
      "text/latex": [
       "$\\mathbb{E}[\\kappa(\\tilde{H}_{kai,o,L=3})] \\leq 89.12758063386674$"
      ],
      "text/plain": [
       "<IPython.core.display.Latex object>"
      ]
     },
     "metadata": {},
     "output_type": "display_data"
    },
    {
     "data": {
      "text/latex": [
       "$\\mathbb{E}[\\kappa(\\tilde{H}_{kai,o,L=4})] \\leq 172.44990356531017$"
      ],
      "text/plain": [
       "<IPython.core.display.Latex object>"
      ]
     },
     "metadata": {},
     "output_type": "display_data"
    },
    {
     "data": {
      "text/latex": [
       "$\\mathbb{E}[\\kappa(\\tilde{H}_{kai,o,L=5})] \\leq 310.4546316675913$"
      ],
      "text/plain": [
       "<IPython.core.display.Latex object>"
      ]
     },
     "metadata": {},
     "output_type": "display_data"
    }
   ],
   "source": [
    "display(Latex(r'Average upper bound of condition number of the outer product Hessian $\\textbf{with}$ skip connection with scaling $1/\\sqrt{L}$ for different number of hidden layers:'))\n",
    "\n",
    "for i in range(len(L)):\n",
    "    display(Latex(f'$\\mathbb{{E}}[\\kappa(\\\\tilde{{H}}_{{kai,o,L={L[i]}}})] \\leq {np.mean(H_o_cond_upper_bounds_skip_l[i])}$'))"
   ]
  },
  {
   "cell_type": "markdown",
   "id": "b04f0032",
   "metadata": {},
   "source": [
    "#### Observe that the condition number increases much slower with increasing number of hidden layers"
   ]
  },
  {
   "cell_type": "code",
   "execution_count": 77,
   "id": "3172bd4c",
   "metadata": {
    "scrolled": false
   },
   "outputs": [
    {
     "data": {
      "text/plain": [
       "Text(0.5, 1.0, 'Ratio of condition number of L-hidden layer NN with and without skip connection for fixed number of hidden units.')"
      ]
     },
     "execution_count": 77,
     "metadata": {},
     "output_type": "execute_result"
    },
    {
     "data": {
      "image/png": "[encoded data removed]",
      "text/plain": [
       "<Figure size 640x480 with 1 Axes>"
      ]
     },
     "metadata": {},
     "output_type": "display_data"
    }
   ],
   "source": [
    "H_cond_noskips = np.array([np.mean(H_o_tilde_cond_kaiming_noskip_l[l]) for l in range(len(L))])\n",
    "H_cond_skips = np.array([np.mean(H_o_tilde_cond_kaiming_skip_l[l]) for l in range(len(L))])\n",
    "\n",
    "plt.plot(L, H_cond_skips/H_cond_noskips, 's-')\n",
    "\n",
    "plt.xlabel(r'# hidden layers $L$')\n",
    "plt.ylabel(r'$\\kappa(\\hat{H}_{O,skip}) / \\kappa(\\hat{H}_{O,noskip})$')\n",
    "plt.title('Ratio of condition number of L-hidden layer NN with and without skip connection for fixed number of hidden units.')"
   ]
  },
  {
   "cell_type": "code",
   "execution_count": null,
   "id": "d1a463dd",
   "metadata": {},
   "outputs": [],
   "source": []
  }
 ],
 "metadata": {
  "kernelspec": {
   "display_name": "Python 3 (ipykernel)",
   "language": "python",
   "name": "python3"
  },
  "language_info": {
   "codemirror_mode": {
    "name": "ipython",
    "version": 3
   },
   "file_extension": ".py",
   "mimetype": "text/x-python",
   "name": "python",
   "nbconvert_exporter": "python",
   "pygments_lexer": "ipython3",
   "version": "3.11.3"
  }
 },
 "nbformat": 4,
 "nbformat_minor": 5
}
